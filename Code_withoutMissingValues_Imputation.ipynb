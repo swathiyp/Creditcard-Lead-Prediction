{
 "cells": [
  {
   "cell_type": "markdown",
   "metadata": {},
   "source": [
    "# LIBRARIES REQUIRED"
   ]
  },
  {
   "cell_type": "code",
   "execution_count": 1,
   "metadata": {},
   "outputs": [],
   "source": [
    "import numpy as np\n",
    "import pandas as pd\n",
    "import matplotlib.pyplot as plt\n",
    "import seaborn as sns\n",
    "from sklearn.linear_model import LogisticRegression\n",
    "from sklearn import metrics\n",
    "from sklearn.ensemble import RandomForestClassifier as rcf\n",
    "from sklearn.tree import DecisionTreeClassifier as dct\n",
    "from sklearn.model_selection import cross_val_score\n",
    "from lightgbm import LGBMClassifier as lgb\n",
    "from sklearn.preprocessing import LabelEncoder\n",
    "from sklearn.metrics import mean_squared_error, roc_auc_score, roc_curve\n",
    "from catboost import CatBoostClassifier, Pool"
   ]
  },
  {
   "cell_type": "code",
   "execution_count": 2,
   "metadata": {},
   "outputs": [],
   "source": [
    "SEED = 1972"
   ]
  },
  {
   "cell_type": "code",
   "execution_count": 3,
   "metadata": {},
   "outputs": [],
   "source": [
    "train = pd.read_csv('train_s3TEQDk.csv')\n",
    "test = pd.read_csv('test_mSzZ8RL.csv')"
   ]
  },
  {
   "cell_type": "code",
   "execution_count": 4,
   "metadata": {},
   "outputs": [
    {
     "name": "stdout",
     "output_type": "stream",
     "text": [
      "<class 'pandas.core.frame.DataFrame'>\n",
      "RangeIndex: 245725 entries, 0 to 245724\n",
      "Data columns (total 11 columns):\n",
      " #   Column               Non-Null Count   Dtype \n",
      "---  ------               --------------   ----- \n",
      " 0   ID                   245725 non-null  object\n",
      " 1   Gender               245725 non-null  object\n",
      " 2   Age                  245725 non-null  int64 \n",
      " 3   Region_Code          245725 non-null  object\n",
      " 4   Occupation           245725 non-null  object\n",
      " 5   Channel_Code         245725 non-null  object\n",
      " 6   Vintage              245725 non-null  int64 \n",
      " 7   Credit_Product       216400 non-null  object\n",
      " 8   Avg_Account_Balance  245725 non-null  int64 \n",
      " 9   Is_Active            245725 non-null  object\n",
      " 10  Is_Lead              245725 non-null  int64 \n",
      "dtypes: int64(4), object(7)\n",
      "memory usage: 20.6+ MB\n"
     ]
    }
   ],
   "source": [
    "train.info()"
   ]
  },
  {
   "cell_type": "markdown",
   "metadata": {},
   "source": [
    "# MISSING VALUES AND TREATMENT"
   ]
  },
  {
   "cell_type": "code",
   "execution_count": 5,
   "metadata": {},
   "outputs": [
    {
     "data": {
      "text/plain": [
       "ID                     0.000000\n",
       "Gender                 0.000000\n",
       "Age                    0.000000\n",
       "Region_Code            0.000000\n",
       "Occupation             0.000000\n",
       "Channel_Code           0.000000\n",
       "Vintage                0.000000\n",
       "Credit_Product         0.119341\n",
       "Avg_Account_Balance    0.000000\n",
       "Is_Active              0.000000\n",
       "Is_Lead                0.000000\n",
       "dtype: float64"
      ]
     },
     "execution_count": 5,
     "metadata": {},
     "output_type": "execute_result"
    }
   ],
   "source": [
    "train.isna().sum()\n",
    "train.isnull().sum() / len(train)"
   ]
  },
  {
   "cell_type": "code",
   "execution_count": 6,
   "metadata": {},
   "outputs": [
    {
     "data": {
      "text/plain": [
       "<matplotlib.axes._subplots.AxesSubplot at 0x24506e836a0>"
      ]
     },
     "execution_count": 6,
     "metadata": {},
     "output_type": "execute_result"
    },
    {
     "data": {
      "image/png": "[encoded data removed]",
      "text/plain": [
       "<Figure size 432x288 with 1 Axes>"
      ]
     },
     "metadata": {
      "needs_background": "light"
     },
     "output_type": "display_data"
    }
   ],
   "source": [
    "sns.countplot(train['Credit_Product'])"
   ]
  },
  {
   "cell_type": "code",
   "execution_count": 7,
   "metadata": {},
   "outputs": [],
   "source": [
    "train[\"Credit_Product\"]=train[\"Credit_Product\"].fillna(\"Unknown\")\n",
    "test[\"Credit_Product\"]=test[\"Credit_Product\"].fillna(\"Unknown\")\n",
    "#train.dropna(axis='columns', how='any', inplace=True)\n",
    "\n",
    "#new_data = data.dropna(axis = 0, how ='any')"
   ]
  },
  {
   "cell_type": "markdown",
   "metadata": {},
   "source": [
    "# OUTLIERS"
   ]
  },
  {
   "cell_type": "code",
   "execution_count": 8,
   "metadata": {},
   "outputs": [],
   "source": [
    "train=train[(train[\"Avg_Account_Balance\"]<2673000)]"
   ]
  },
  {
   "cell_type": "code",
   "execution_count": 9,
   "metadata": {},
   "outputs": [
    {
     "data": {
      "text/plain": [
       "0    0.764608\n",
       "1    0.235392\n",
       "Name: Is_Lead, dtype: float64"
      ]
     },
     "execution_count": 9,
     "metadata": {},
     "output_type": "execute_result"
    }
   ],
   "source": [
    "train.Is_Lead.value_counts() / len(train)"
   ]
  },
  {
   "cell_type": "markdown",
   "metadata": {},
   "source": [
    "ENCODING \n",
    "We will be using CatBoostClassifier as for training the data and later on we will check how it is performing on the test set. Evaluation and Accuracy will be checked for the model. As, we have Categorical Variables to be dealt with so going with CatBoostClassifier will be good enough, as Catboost handles the Categorical features directly, no explicit OHE or encoding scheme is required."
   ]
  },
  {
   "cell_type": "code",
   "execution_count": 10,
   "metadata": {},
   "outputs": [
    {
     "data": {
      "text/plain": [
       "ID                     object\n",
       "Gender                 object\n",
       "Age                     int64\n",
       "Region_Code            object\n",
       "Occupation             object\n",
       "Channel_Code           object\n",
       "Vintage                 int64\n",
       "Credit_Product         object\n",
       "Avg_Account_Balance     int64\n",
       "Is_Active              object\n",
       "Is_Lead                 int64\n",
       "dtype: object"
      ]
     },
     "metadata": {},
     "output_type": "display_data"
    }
   ],
   "source": [
    "display(train.dtypes)"
   ]
  },
  {
   "cell_type": "code",
   "execution_count": 11,
   "metadata": {},
   "outputs": [],
   "source": [
    "train.drop(columns ='ID',inplace=True)\n",
    "test.drop(columns ='ID',inplace=True)"
   ]
  },
  {
   "cell_type": "code",
   "execution_count": 22,
   "metadata": {},
   "outputs": [
    {
     "name": "stdout",
     "output_type": "stream",
     "text": [
      "Gender\n",
      "Region_Code\n",
      "Occupation\n",
      "Channel_Code\n",
      "Credit_Product\n",
      "Is_Active\n"
     ]
    }
   ],
   "source": [
    "#train = encoder.fit_transform(train) \n",
    "\n",
    "cat_columns = []\n",
    "for col in train.select_dtypes('object').columns:\n",
    "    print(col) \n",
    "    cat_columns.append(col)\n",
    "    #le = LabelEncoder()\n",
    "    #train[col] = le.fit_transform(train[col])"
   ]
  },
  {
   "cell_type": "code",
   "execution_count": 13,
   "metadata": {},
   "outputs": [
    {
     "data": {
      "text/plain": [
       "(array([ 5444., 43975., 58617., 44491., 30008., 19739., 12909.,  8784.,\n",
       "         5491.,  3970.]),\n",
       " array([  20790.,  286010.,  551230.,  816450., 1081670., 1346890.,\n",
       "        1612110., 1877330., 2142550., 2407770., 2672990.]),\n",
       " <a list of 10 Patch objects>)"
      ]
     },
     "execution_count": 13,
     "metadata": {},
     "output_type": "execute_result"
    },
    {
     "data": {
      "image/png": "[encoded data removed]",
      "text/plain": [
       "<Figure size 432x288 with 1 Axes>"
      ]
     },
     "metadata": {
      "needs_background": "light"
     },
     "output_type": "display_data"
    }
   ],
   "source": [
    "plt.hist(train['Avg_Account_Balance'])"
   ]
  },
  {
   "cell_type": "code",
   "execution_count": 14,
   "metadata": {},
   "outputs": [
    {
     "data": {
      "text/plain": [
       "(array([1.0000e+00, 7.0000e+00, 3.9000e+01, 2.9300e+02, 2.2130e+03,\n",
       "        1.3795e+04, 4.9396e+04, 7.6676e+04, 6.1866e+04, 2.9142e+04]),\n",
       " array([ 9.94222738, 10.42787547, 10.91352356, 11.39917164, 11.88481973,\n",
       "        12.37046782, 12.8561159 , 13.34176399, 13.82741208, 14.31306017,\n",
       "        14.79870825]),\n",
       " <a list of 10 Patch objects>)"
      ]
     },
     "execution_count": 14,
     "metadata": {},
     "output_type": "execute_result"
    },
    {
     "data": {
      "image/png": "[encoded data removed]",
      "text/plain": [
       "<Figure size 432x288 with 1 Axes>"
      ]
     },
     "metadata": {
      "needs_background": "light"
     },
     "output_type": "display_data"
    }
   ],
   "source": [
    "plt.hist(np.log(train['Avg_Account_Balance']))"
   ]
  },
  {
   "cell_type": "markdown",
   "metadata": {},
   "source": [
    "plt.hist(np.boxcox(train['Avg_Account_Balance']))"
   ]
  },
  {
   "cell_type": "code",
   "execution_count": 15,
   "metadata": {},
   "outputs": [
    {
     "data": {
      "text/plain": [
       "(array([3.8000e+01, 1.1410e+03, 1.0678e+04, 3.6882e+04, 5.4175e+04,\n",
       "        4.9172e+04, 3.5984e+04, 2.3214e+04, 1.4244e+04, 7.9000e+03]),\n",
       " array([ 144.18737809,  293.26145358,  442.33552907,  591.40960455,\n",
       "         740.48368004,  889.55775553, 1038.63183102, 1187.70590651,\n",
       "        1336.779982  , 1485.85405749, 1634.92813298]),\n",
       " <a list of 10 Patch objects>)"
      ]
     },
     "execution_count": 15,
     "metadata": {},
     "output_type": "execute_result"
    },
    {
     "data": {
      "image/png": "[encoded data removed]",
      "text/plain": [
       "<Figure size 432x288 with 1 Axes>"
      ]
     },
     "metadata": {
      "needs_background": "light"
     },
     "output_type": "display_data"
    }
   ],
   "source": [
    "plt.hist(np.sqrt(train['Avg_Account_Balance']))"
   ]
  },
  {
   "cell_type": "code",
   "execution_count": 16,
   "metadata": {},
   "outputs": [],
   "source": [
    "train['Avg_Account_Balance']=np.sqrt(train['Avg_Account_Balance'])"
   ]
  },
  {
   "cell_type": "code",
   "execution_count": 17,
   "metadata": {},
   "outputs": [
    {
     "data": {
      "image/png": "[encoded data removed]",
      "text/plain": [
       "<Figure size 432x288 with 1 Axes>"
      ]
     },
     "metadata": {
      "needs_background": "light"
     },
     "output_type": "display_data"
    }
   ],
   "source": [
    "plt.hist(((train['Avg_Account_Balance'])));"
   ]
  },
  {
   "cell_type": "code",
   "execution_count": 18,
   "metadata": {},
   "outputs": [],
   "source": [
    "Y= train[\"Is_Lead\"]\n",
    "X=train.drop([\"Is_Lead\"],axis=1)"
   ]
  },
  {
   "cell_type": "code",
   "execution_count": 19,
   "metadata": {},
   "outputs": [
    {
     "data": {
      "text/plain": [
       "Index(['Gender', 'Age', 'Region_Code', 'Occupation', 'Channel_Code', 'Vintage',\n",
       "       'Credit_Product', 'Avg_Account_Balance', 'Is_Active'],\n",
       "      dtype='object')"
      ]
     },
     "execution_count": 19,
     "metadata": {},
     "output_type": "execute_result"
    }
   ],
   "source": [
    "X.columns"
   ]
  },
  {
   "cell_type": "code",
   "execution_count": 23,
   "metadata": {},
   "outputs": [
    {
     "data": {
      "text/plain": [
       "[0, 2, 3, 4, 6, 8]"
      ]
     },
     "execution_count": 23,
     "metadata": {},
     "output_type": "execute_result"
    }
   ],
   "source": [
    "cat_features_index = [i for i,col in enumerate(X.columns) if col in cat_columns]\n",
    "cat_features_index"
   ]
  },
  {
   "cell_type": "code",
   "execution_count": 32,
   "metadata": {},
   "outputs": [],
   "source": [
    "#### MODEL \n",
    "\n",
    "#cate_features_index = np.where(trainset.dtypes != float)[0]\n",
    "from sklearn.model_selection import train_test_split\n",
    "X1_train, X1_test, y1_train, y1_test = train_test_split(X, Y, train_size=0.85,random_state=SEED)\n",
    "from catboost import CatBoostClassifier\n",
    "\n",
    "\n",
    "cat = CatBoostClassifier(eval_metric='Accuracy',\n",
    "                         use_best_model=True,random_seed=SEED,learning_rate = 0.674 ,iterations = 700,depth = 4,\n",
    "                         bagging_temperature=3,one_hot_max_size=2)"
   ]
  },
  {
   "cell_type": "code",
   "execution_count": 34,
   "metadata": {},
   "outputs": [
    {
     "name": "stdout",
     "output_type": "stream",
     "text": [
      "0:\tlearn: 0.8480493\ttest: 0.8477795\tbest: 0.8477795 (0)\ttotal: 359ms\tremaining: 4m 10s\n",
      "1:\tlearn: 0.8514714\ttest: 0.8526060\tbest: 0.8526060 (1)\ttotal: 442ms\tremaining: 2m 34s\n",
      "2:\tlearn: 0.8575093\ttest: 0.8591461\tbest: 0.8591461 (2)\ttotal: 538ms\tremaining: 2m 4s\n",
      "3:\tlearn: 0.8592381\ttest: 0.8601742\tbest: 0.8601742 (3)\ttotal: 654ms\tremaining: 1m 53s\n",
      "4:\tlearn: 0.8599840\ttest: 0.8616022\tbest: 0.8616022 (4)\ttotal: 760ms\tremaining: 1m 45s\n",
      "5:\tlearn: 0.8600243\ttest: 0.8624875\tbest: 0.8624875 (5)\ttotal: 853ms\tremaining: 1m 38s\n",
      "6:\tlearn: 0.8599386\ttest: 0.8617735\tbest: 0.8624875 (5)\ttotal: 947ms\tremaining: 1m 33s\n",
      "7:\tlearn: 0.8603116\ttest: 0.8619449\tbest: 0.8624875 (5)\ttotal: 1.05s\tremaining: 1m 30s\n",
      "8:\tlearn: 0.8606795\ttest: 0.8624304\tbest: 0.8624875 (5)\ttotal: 1.13s\tremaining: 1m 26s\n",
      "9:\tlearn: 0.8606291\ttest: 0.8616022\tbest: 0.8624875 (5)\ttotal: 1.21s\tremaining: 1m 23s\n",
      "10:\tlearn: 0.8606745\ttest: 0.8620306\tbest: 0.8624875 (5)\ttotal: 1.3s\tremaining: 1m 21s\n",
      "11:\tlearn: 0.8607652\ttest: 0.8620020\tbest: 0.8624875 (5)\ttotal: 1.38s\tremaining: 1m 19s\n",
      "12:\tlearn: 0.8606997\ttest: 0.8624018\tbest: 0.8624875 (5)\ttotal: 1.47s\tremaining: 1m 17s\n",
      "13:\tlearn: 0.8605737\ttest: 0.8622876\tbest: 0.8624875 (5)\ttotal: 1.54s\tremaining: 1m 15s\n",
      "14:\tlearn: 0.8605888\ttest: 0.8623447\tbest: 0.8624875 (5)\ttotal: 1.61s\tremaining: 1m 13s\n",
      "15:\tlearn: 0.8607299\ttest: 0.8625732\tbest: 0.8625732 (15)\ttotal: 1.69s\tremaining: 1m 12s\n",
      "16:\tlearn: 0.8608458\ttest: 0.8624589\tbest: 0.8625732 (15)\ttotal: 1.82s\tremaining: 1m 13s\n",
      "17:\tlearn: 0.8606795\ttest: 0.8626017\tbest: 0.8626017 (17)\ttotal: 1.91s\tremaining: 1m 12s\n",
      "18:\tlearn: 0.8606896\ttest: 0.8625732\tbest: 0.8626017 (17)\ttotal: 2.01s\tremaining: 1m 12s\n",
      "19:\tlearn: 0.8608357\ttest: 0.8624018\tbest: 0.8626017 (17)\ttotal: 2.1s\tremaining: 1m 11s\n",
      "20:\tlearn: 0.8608055\ttest: 0.8624018\tbest: 0.8626017 (17)\ttotal: 2.19s\tremaining: 1m 10s\n",
      "21:\tlearn: 0.8608609\ttest: 0.8624875\tbest: 0.8626017 (17)\ttotal: 2.38s\tremaining: 1m 13s\n",
      "22:\tlearn: 0.8611633\ttest: 0.8620306\tbest: 0.8626017 (17)\ttotal: 2.56s\tremaining: 1m 15s\n",
      "23:\tlearn: 0.8613196\ttest: 0.8623162\tbest: 0.8626017 (17)\ttotal: 2.71s\tremaining: 1m 16s\n",
      "24:\tlearn: 0.8614254\ttest: 0.8622876\tbest: 0.8626017 (17)\ttotal: 2.89s\tremaining: 1m 17s\n",
      "25:\tlearn: 0.8613145\ttest: 0.8624304\tbest: 0.8626017 (17)\ttotal: 3.06s\tremaining: 1m 19s\n",
      "26:\tlearn: 0.8613397\ttest: 0.8623733\tbest: 0.8626017 (17)\ttotal: 3.19s\tremaining: 1m 19s\n",
      "27:\tlearn: 0.8613901\ttest: 0.8625446\tbest: 0.8626017 (17)\ttotal: 3.34s\tremaining: 1m 20s\n",
      "28:\tlearn: 0.8614758\ttest: 0.8622590\tbest: 0.8626017 (17)\ttotal: 3.54s\tremaining: 1m 21s\n",
      "29:\tlearn: 0.8615766\ttest: 0.8622305\tbest: 0.8626017 (17)\ttotal: 3.69s\tremaining: 1m 22s\n",
      "30:\tlearn: 0.8615716\ttest: 0.8622305\tbest: 0.8626017 (17)\ttotal: 3.83s\tremaining: 1m 22s\n",
      "31:\tlearn: 0.8616573\ttest: 0.8623447\tbest: 0.8626017 (17)\ttotal: 4.01s\tremaining: 1m 23s\n",
      "32:\tlearn: 0.8616825\ttest: 0.8623733\tbest: 0.8626017 (17)\ttotal: 4.18s\tremaining: 1m 24s\n",
      "33:\tlearn: 0.8617278\ttest: 0.8626017\tbest: 0.8626017 (17)\ttotal: 4.37s\tremaining: 1m 25s\n",
      "34:\tlearn: 0.8617833\ttest: 0.8624018\tbest: 0.8626017 (17)\ttotal: 4.51s\tremaining: 1m 25s\n",
      "35:\tlearn: 0.8618286\ttest: 0.8625446\tbest: 0.8626017 (17)\ttotal: 4.69s\tremaining: 1m 26s\n",
      "36:\tlearn: 0.8618437\ttest: 0.8626303\tbest: 0.8626303 (36)\ttotal: 4.86s\tremaining: 1m 27s\n",
      "37:\tlearn: 0.8618437\ttest: 0.8624875\tbest: 0.8626303 (36)\ttotal: 5.05s\tremaining: 1m 27s\n",
      "38:\tlearn: 0.8618891\ttest: 0.8624875\tbest: 0.8626303 (36)\ttotal: 5.22s\tremaining: 1m 28s\n",
      "39:\tlearn: 0.8619092\ttest: 0.8624304\tbest: 0.8626303 (36)\ttotal: 5.4s\tremaining: 1m 29s\n",
      "40:\tlearn: 0.8618387\ttest: 0.8623733\tbest: 0.8626303 (36)\ttotal: 5.6s\tremaining: 1m 29s\n",
      "41:\tlearn: 0.8619042\ttest: 0.8622590\tbest: 0.8626303 (36)\ttotal: 5.73s\tremaining: 1m 29s\n",
      "42:\tlearn: 0.8619042\ttest: 0.8622590\tbest: 0.8626303 (36)\ttotal: 5.81s\tremaining: 1m 28s\n",
      "43:\tlearn: 0.8619748\ttest: 0.8622590\tbest: 0.8626303 (36)\ttotal: 5.89s\tremaining: 1m 27s\n",
      "44:\tlearn: 0.8619748\ttest: 0.8623733\tbest: 0.8626303 (36)\ttotal: 6s\tremaining: 1m 27s\n",
      "45:\tlearn: 0.8620252\ttest: 0.8623733\tbest: 0.8626303 (36)\ttotal: 6.1s\tremaining: 1m 26s\n",
      "46:\tlearn: 0.8620957\ttest: 0.8624875\tbest: 0.8626303 (36)\ttotal: 6.22s\tremaining: 1m 26s\n",
      "47:\tlearn: 0.8620957\ttest: 0.8625732\tbest: 0.8626303 (36)\ttotal: 6.32s\tremaining: 1m 25s\n",
      "48:\tlearn: 0.8621360\ttest: 0.8625732\tbest: 0.8626303 (36)\ttotal: 6.43s\tremaining: 1m 25s\n",
      "49:\tlearn: 0.8621260\ttest: 0.8625732\tbest: 0.8626303 (36)\ttotal: 6.52s\tremaining: 1m 24s\n",
      "50:\tlearn: 0.8621411\ttest: 0.8625161\tbest: 0.8626303 (36)\ttotal: 6.63s\tremaining: 1m 24s\n",
      "51:\tlearn: 0.8620504\ttest: 0.8625446\tbest: 0.8626303 (36)\ttotal: 6.72s\tremaining: 1m 23s\n",
      "52:\tlearn: 0.8620604\ttest: 0.8624589\tbest: 0.8626303 (36)\ttotal: 6.82s\tremaining: 1m 23s\n",
      "53:\tlearn: 0.8620453\ttest: 0.8624875\tbest: 0.8626303 (36)\ttotal: 6.93s\tremaining: 1m 22s\n",
      "54:\tlearn: 0.8620756\ttest: 0.8624589\tbest: 0.8626303 (36)\ttotal: 7.03s\tremaining: 1m 22s\n",
      "55:\tlearn: 0.8621008\ttest: 0.8624589\tbest: 0.8626303 (36)\ttotal: 7.14s\tremaining: 1m 22s\n",
      "56:\tlearn: 0.8621159\ttest: 0.8626303\tbest: 0.8626303 (36)\ttotal: 7.24s\tremaining: 1m 21s\n",
      "57:\tlearn: 0.8621310\ttest: 0.8623447\tbest: 0.8626303 (36)\ttotal: 7.34s\tremaining: 1m 21s\n",
      "58:\tlearn: 0.8621764\ttest: 0.8624018\tbest: 0.8626303 (36)\ttotal: 7.42s\tremaining: 1m 20s\n",
      "59:\tlearn: 0.8622016\ttest: 0.8625161\tbest: 0.8626303 (36)\ttotal: 7.51s\tremaining: 1m 20s\n",
      "60:\tlearn: 0.8622217\ttest: 0.8622305\tbest: 0.8626303 (36)\ttotal: 7.62s\tremaining: 1m 19s\n",
      "61:\tlearn: 0.8622167\ttest: 0.8626589\tbest: 0.8626589 (61)\ttotal: 7.71s\tremaining: 1m 19s\n",
      "62:\tlearn: 0.8622419\ttest: 0.8626303\tbest: 0.8626589 (61)\ttotal: 7.82s\tremaining: 1m 19s\n",
      "63:\tlearn: 0.8622419\ttest: 0.8625446\tbest: 0.8626589 (61)\ttotal: 7.99s\tremaining: 1m 19s\n",
      "64:\tlearn: 0.8622318\ttest: 0.8626303\tbest: 0.8626589 (61)\ttotal: 8.13s\tremaining: 1m 19s\n",
      "65:\tlearn: 0.8621713\ttest: 0.8625161\tbest: 0.8626589 (61)\ttotal: 8.31s\tremaining: 1m 19s\n",
      "66:\tlearn: 0.8622822\ttest: 0.8625161\tbest: 0.8626589 (61)\ttotal: 8.49s\tremaining: 1m 20s\n",
      "67:\tlearn: 0.8622923\ttest: 0.8624589\tbest: 0.8626589 (61)\ttotal: 8.66s\tremaining: 1m 20s\n",
      "68:\tlearn: 0.8622822\ttest: 0.8625446\tbest: 0.8626589 (61)\ttotal: 8.88s\tremaining: 1m 21s\n",
      "69:\tlearn: 0.8623124\ttest: 0.8625732\tbest: 0.8626589 (61)\ttotal: 9.06s\tremaining: 1m 21s\n",
      "70:\tlearn: 0.8623124\ttest: 0.8624875\tbest: 0.8626589 (61)\ttotal: 9.22s\tremaining: 1m 21s\n",
      "71:\tlearn: 0.8623679\ttest: 0.8626017\tbest: 0.8626589 (61)\ttotal: 9.38s\tremaining: 1m 21s\n",
      "72:\tlearn: 0.8624233\ttest: 0.8626303\tbest: 0.8626589 (61)\ttotal: 9.53s\tremaining: 1m 21s\n",
      "73:\tlearn: 0.8623225\ttest: 0.8625446\tbest: 0.8626589 (61)\ttotal: 9.68s\tremaining: 1m 21s\n",
      "74:\tlearn: 0.8624586\ttest: 0.8625161\tbest: 0.8626589 (61)\ttotal: 9.89s\tremaining: 1m 22s\n",
      "75:\tlearn: 0.8624838\ttest: 0.8626589\tbest: 0.8626589 (61)\ttotal: 10.1s\tremaining: 1m 22s\n",
      "76:\tlearn: 0.8624334\ttest: 0.8625446\tbest: 0.8626589 (61)\ttotal: 10.2s\tremaining: 1m 22s\n",
      "77:\tlearn: 0.8624636\ttest: 0.8624875\tbest: 0.8626589 (61)\ttotal: 10.4s\tremaining: 1m 22s\n",
      "78:\tlearn: 0.8624939\ttest: 0.8626017\tbest: 0.8626589 (61)\ttotal: 10.6s\tremaining: 1m 22s\n",
      "79:\tlearn: 0.8624989\ttest: 0.8626303\tbest: 0.8626589 (61)\ttotal: 10.7s\tremaining: 1m 23s\n",
      "80:\tlearn: 0.8624032\ttest: 0.8624589\tbest: 0.8626589 (61)\ttotal: 10.9s\tremaining: 1m 23s\n",
      "81:\tlearn: 0.8624233\ttest: 0.8624875\tbest: 0.8626589 (61)\ttotal: 11.1s\tremaining: 1m 23s\n",
      "82:\tlearn: 0.8625594\ttest: 0.8627160\tbest: 0.8627160 (82)\ttotal: 11.3s\tremaining: 1m 23s\n",
      "83:\tlearn: 0.8624989\ttest: 0.8626589\tbest: 0.8627160 (82)\ttotal: 11.4s\tremaining: 1m 23s\n",
      "84:\tlearn: 0.8625040\ttest: 0.8625732\tbest: 0.8627160 (82)\ttotal: 11.5s\tremaining: 1m 22s\n",
      "85:\tlearn: 0.8625292\ttest: 0.8624875\tbest: 0.8627160 (82)\ttotal: 11.6s\tremaining: 1m 22s\n",
      "86:\tlearn: 0.8624989\ttest: 0.8625161\tbest: 0.8627160 (82)\ttotal: 11.6s\tremaining: 1m 22s\n",
      "87:\tlearn: 0.8625493\ttest: 0.8626017\tbest: 0.8627160 (82)\ttotal: 11.7s\tremaining: 1m 21s\n",
      "88:\tlearn: 0.8625090\ttest: 0.8627160\tbest: 0.8627160 (82)\ttotal: 11.8s\tremaining: 1m 21s\n",
      "89:\tlearn: 0.8624888\ttest: 0.8626874\tbest: 0.8627160 (82)\ttotal: 11.9s\tremaining: 1m 20s\n",
      "90:\tlearn: 0.8624737\ttest: 0.8626874\tbest: 0.8627160 (82)\ttotal: 12s\tremaining: 1m 20s\n",
      "91:\tlearn: 0.8625392\ttest: 0.8628017\tbest: 0.8628017 (91)\ttotal: 12.1s\tremaining: 1m 19s\n",
      "92:\tlearn: 0.8625292\ttest: 0.8627160\tbest: 0.8628017 (91)\ttotal: 12.2s\tremaining: 1m 19s\n",
      "93:\tlearn: 0.8625140\ttest: 0.8626874\tbest: 0.8628017 (91)\ttotal: 12.3s\tremaining: 1m 19s\n"
     ]
    },
    {
     "name": "stdout",
     "output_type": "stream",
     "text": [
      "94:\tlearn: 0.8624888\ttest: 0.8627731\tbest: 0.8628017 (91)\ttotal: 12.4s\tremaining: 1m 18s\n",
      "95:\tlearn: 0.8624838\ttest: 0.8627731\tbest: 0.8628017 (91)\ttotal: 12.5s\tremaining: 1m 18s\n",
      "96:\tlearn: 0.8625745\ttest: 0.8627160\tbest: 0.8628017 (91)\ttotal: 12.7s\tremaining: 1m 18s\n",
      "97:\tlearn: 0.8626400\ttest: 0.8627445\tbest: 0.8628017 (91)\ttotal: 12.9s\tremaining: 1m 19s\n",
      "98:\tlearn: 0.8626350\ttest: 0.8626589\tbest: 0.8628017 (91)\ttotal: 13s\tremaining: 1m 19s\n",
      "99:\tlearn: 0.8626602\ttest: 0.8626589\tbest: 0.8628017 (91)\ttotal: 13.2s\tremaining: 1m 19s\n",
      "100:\tlearn: 0.8626955\ttest: 0.8630016\tbest: 0.8630016 (100)\ttotal: 13.4s\tremaining: 1m 19s\n",
      "101:\tlearn: 0.8627761\ttest: 0.8632015\tbest: 0.8632015 (101)\ttotal: 13.6s\tremaining: 1m 19s\n",
      "102:\tlearn: 0.8627459\ttest: 0.8628873\tbest: 0.8632015 (101)\ttotal: 13.8s\tremaining: 1m 19s\n",
      "103:\tlearn: 0.8627509\ttest: 0.8628873\tbest: 0.8632015 (101)\ttotal: 14s\tremaining: 1m 19s\n",
      "104:\tlearn: 0.8627560\ttest: 0.8629445\tbest: 0.8632015 (101)\ttotal: 14.1s\tremaining: 1m 20s\n",
      "105:\tlearn: 0.8627408\ttest: 0.8629159\tbest: 0.8632015 (101)\ttotal: 14.3s\tremaining: 1m 20s\n",
      "106:\tlearn: 0.8628013\ttest: 0.8630587\tbest: 0.8632015 (101)\ttotal: 14.5s\tremaining: 1m 20s\n",
      "107:\tlearn: 0.8627408\ttest: 0.8631158\tbest: 0.8632015 (101)\ttotal: 14.7s\tremaining: 1m 20s\n",
      "108:\tlearn: 0.8627610\ttest: 0.8631444\tbest: 0.8632015 (101)\ttotal: 14.8s\tremaining: 1m 20s\n",
      "109:\tlearn: 0.8627358\ttest: 0.8631444\tbest: 0.8632015 (101)\ttotal: 15s\tremaining: 1m 20s\n",
      "110:\tlearn: 0.8627912\ttest: 0.8631158\tbest: 0.8632015 (101)\ttotal: 15.2s\tremaining: 1m 20s\n",
      "111:\tlearn: 0.8627056\ttest: 0.8634300\tbest: 0.8634300 (111)\ttotal: 15.4s\tremaining: 1m 20s\n",
      "112:\tlearn: 0.8626955\ttest: 0.8633728\tbest: 0.8634300 (111)\ttotal: 15.6s\tremaining: 1m 21s\n",
      "113:\tlearn: 0.8628467\ttest: 0.8633728\tbest: 0.8634300 (111)\ttotal: 15.8s\tremaining: 1m 21s\n",
      "114:\tlearn: 0.8628467\ttest: 0.8632300\tbest: 0.8634300 (111)\ttotal: 15.9s\tremaining: 1m 21s\n",
      "115:\tlearn: 0.8628467\ttest: 0.8632586\tbest: 0.8634300 (111)\ttotal: 16s\tremaining: 1m 20s\n",
      "116:\tlearn: 0.8628971\ttest: 0.8632872\tbest: 0.8634300 (111)\ttotal: 16.1s\tremaining: 1m 20s\n",
      "117:\tlearn: 0.8629626\ttest: 0.8632015\tbest: 0.8634300 (111)\ttotal: 16.2s\tremaining: 1m 20s\n",
      "118:\tlearn: 0.8629626\ttest: 0.8632872\tbest: 0.8634300 (111)\ttotal: 16.3s\tremaining: 1m 19s\n",
      "119:\tlearn: 0.8629828\ttest: 0.8633157\tbest: 0.8634300 (111)\ttotal: 16.4s\tremaining: 1m 19s\n",
      "120:\tlearn: 0.8629424\ttest: 0.8632872\tbest: 0.8634300 (111)\ttotal: 16.5s\tremaining: 1m 19s\n",
      "121:\tlearn: 0.8628820\ttest: 0.8632586\tbest: 0.8634300 (111)\ttotal: 16.7s\tremaining: 1m 18s\n",
      "122:\tlearn: 0.8629273\ttest: 0.8631444\tbest: 0.8634300 (111)\ttotal: 16.8s\tremaining: 1m 18s\n",
      "123:\tlearn: 0.8629626\ttest: 0.8631729\tbest: 0.8634300 (111)\ttotal: 16.9s\tremaining: 1m 18s\n",
      "124:\tlearn: 0.8630231\ttest: 0.8632015\tbest: 0.8634300 (111)\ttotal: 17s\tremaining: 1m 18s\n",
      "125:\tlearn: 0.8630533\ttest: 0.8630587\tbest: 0.8634300 (111)\ttotal: 17.2s\tremaining: 1m 18s\n",
      "126:\tlearn: 0.8630483\ttest: 0.8630587\tbest: 0.8634300 (111)\ttotal: 17.3s\tremaining: 1m 18s\n",
      "127:\tlearn: 0.8630029\ttest: 0.8628017\tbest: 0.8634300 (111)\ttotal: 17.5s\tremaining: 1m 18s\n",
      "128:\tlearn: 0.8629828\ttest: 0.8628017\tbest: 0.8634300 (111)\ttotal: 17.7s\tremaining: 1m 18s\n",
      "129:\tlearn: 0.8630836\ttest: 0.8629445\tbest: 0.8634300 (111)\ttotal: 17.9s\tremaining: 1m 18s\n",
      "130:\tlearn: 0.8630987\ttest: 0.8629445\tbest: 0.8634300 (111)\ttotal: 18s\tremaining: 1m 18s\n",
      "131:\tlearn: 0.8630634\ttest: 0.8629159\tbest: 0.8634300 (111)\ttotal: 18.2s\tremaining: 1m 18s\n",
      "132:\tlearn: 0.8630533\ttest: 0.8629730\tbest: 0.8634300 (111)\ttotal: 18.4s\tremaining: 1m 18s\n",
      "133:\tlearn: 0.8629878\ttest: 0.8629159\tbest: 0.8634300 (111)\ttotal: 18.6s\tremaining: 1m 18s\n",
      "134:\tlearn: 0.8629777\ttest: 0.8630301\tbest: 0.8634300 (111)\ttotal: 18.8s\tremaining: 1m 18s\n",
      "135:\tlearn: 0.8630332\ttest: 0.8630301\tbest: 0.8634300 (111)\ttotal: 19s\tremaining: 1m 18s\n",
      "136:\tlearn: 0.8630130\ttest: 0.8629730\tbest: 0.8634300 (111)\ttotal: 19.1s\tremaining: 1m 18s\n",
      "137:\tlearn: 0.8630281\ttest: 0.8631158\tbest: 0.8634300 (111)\ttotal: 19.3s\tremaining: 1m 18s\n",
      "138:\tlearn: 0.8630281\ttest: 0.8631444\tbest: 0.8634300 (111)\ttotal: 19.5s\tremaining: 1m 18s\n",
      "139:\tlearn: 0.8630281\ttest: 0.8631444\tbest: 0.8634300 (111)\ttotal: 19.6s\tremaining: 1m 18s\n",
      "140:\tlearn: 0.8630483\ttest: 0.8630587\tbest: 0.8634300 (111)\ttotal: 19.8s\tremaining: 1m 18s\n",
      "141:\tlearn: 0.8630180\ttest: 0.8630016\tbest: 0.8634300 (111)\ttotal: 19.9s\tremaining: 1m 18s\n",
      "142:\tlearn: 0.8630080\ttest: 0.8630016\tbest: 0.8634300 (111)\ttotal: 20.1s\tremaining: 1m 18s\n",
      "143:\tlearn: 0.8629626\ttest: 0.8631729\tbest: 0.8634300 (111)\ttotal: 20.3s\tremaining: 1m 18s\n",
      "144:\tlearn: 0.8630382\ttest: 0.8631729\tbest: 0.8634300 (111)\ttotal: 20.4s\tremaining: 1m 18s\n",
      "145:\tlearn: 0.8630533\ttest: 0.8631158\tbest: 0.8634300 (111)\ttotal: 20.5s\tremaining: 1m 17s\n",
      "146:\tlearn: 0.8631743\ttest: 0.8629445\tbest: 0.8634300 (111)\ttotal: 20.6s\tremaining: 1m 17s\n",
      "147:\tlearn: 0.8631743\ttest: 0.8629445\tbest: 0.8634300 (111)\ttotal: 20.7s\tremaining: 1m 17s\n",
      "148:\tlearn: 0.8631541\ttest: 0.8629445\tbest: 0.8634300 (111)\ttotal: 20.8s\tremaining: 1m 16s\n",
      "149:\tlearn: 0.8632045\ttest: 0.8628588\tbest: 0.8634300 (111)\ttotal: 20.8s\tremaining: 1m 16s\n",
      "150:\tlearn: 0.8632096\ttest: 0.8628588\tbest: 0.8634300 (111)\ttotal: 20.9s\tremaining: 1m 16s\n",
      "151:\tlearn: 0.8632146\ttest: 0.8627445\tbest: 0.8634300 (111)\ttotal: 21s\tremaining: 1m 15s\n",
      "152:\tlearn: 0.8631743\ttest: 0.8628873\tbest: 0.8634300 (111)\ttotal: 21.1s\tremaining: 1m 15s\n",
      "153:\tlearn: 0.8631995\ttest: 0.8629445\tbest: 0.8634300 (111)\ttotal: 21.2s\tremaining: 1m 15s\n",
      "154:\tlearn: 0.8632700\ttest: 0.8627731\tbest: 0.8634300 (111)\ttotal: 21.3s\tremaining: 1m 14s\n",
      "155:\tlearn: 0.8632398\ttest: 0.8629445\tbest: 0.8634300 (111)\ttotal: 21.4s\tremaining: 1m 14s\n",
      "156:\tlearn: 0.8632348\ttest: 0.8631158\tbest: 0.8634300 (111)\ttotal: 21.6s\tremaining: 1m 14s\n",
      "157:\tlearn: 0.8632297\ttest: 0.8630301\tbest: 0.8634300 (111)\ttotal: 21.8s\tremaining: 1m 14s\n",
      "158:\tlearn: 0.8633204\ttest: 0.8630016\tbest: 0.8634300 (111)\ttotal: 21.9s\tremaining: 1m 14s\n",
      "159:\tlearn: 0.8633154\ttest: 0.8630872\tbest: 0.8634300 (111)\ttotal: 22.1s\tremaining: 1m 14s\n",
      "160:\tlearn: 0.8633305\ttest: 0.8630301\tbest: 0.8634300 (111)\ttotal: 22.3s\tremaining: 1m 14s\n",
      "161:\tlearn: 0.8633305\ttest: 0.8630872\tbest: 0.8634300 (111)\ttotal: 22.5s\tremaining: 1m 14s\n",
      "162:\tlearn: 0.8632700\ttest: 0.8630872\tbest: 0.8634300 (111)\ttotal: 22.7s\tremaining: 1m 14s\n",
      "163:\tlearn: 0.8631995\ttest: 0.8630301\tbest: 0.8634300 (111)\ttotal: 22.9s\tremaining: 1m 14s\n",
      "164:\tlearn: 0.8632045\ttest: 0.8630301\tbest: 0.8634300 (111)\ttotal: 23.2s\tremaining: 1m 15s\n",
      "165:\tlearn: 0.8632902\ttest: 0.8630301\tbest: 0.8634300 (111)\ttotal: 23.4s\tremaining: 1m 15s\n",
      "166:\tlearn: 0.8632297\ttest: 0.8630016\tbest: 0.8634300 (111)\ttotal: 23.6s\tremaining: 1m 15s\n",
      "167:\tlearn: 0.8632096\ttest: 0.8629159\tbest: 0.8634300 (111)\ttotal: 23.8s\tremaining: 1m 15s\n",
      "168:\tlearn: 0.8632751\ttest: 0.8631444\tbest: 0.8634300 (111)\ttotal: 24s\tremaining: 1m 15s\n",
      "169:\tlearn: 0.8633104\ttest: 0.8630301\tbest: 0.8634300 (111)\ttotal: 24.1s\tremaining: 1m 15s\n",
      "170:\tlearn: 0.8632297\ttest: 0.8629730\tbest: 0.8634300 (111)\ttotal: 24.3s\tremaining: 1m 15s\n",
      "171:\tlearn: 0.8632297\ttest: 0.8629730\tbest: 0.8634300 (111)\ttotal: 24.5s\tremaining: 1m 15s\n",
      "172:\tlearn: 0.8632297\ttest: 0.8628302\tbest: 0.8634300 (111)\ttotal: 24.7s\tremaining: 1m 15s\n",
      "173:\tlearn: 0.8632700\ttest: 0.8630016\tbest: 0.8634300 (111)\ttotal: 24.9s\tremaining: 1m 15s\n",
      "174:\tlearn: 0.8632902\ttest: 0.8629730\tbest: 0.8634300 (111)\ttotal: 25.1s\tremaining: 1m 15s\n",
      "175:\tlearn: 0.8633204\ttest: 0.8630016\tbest: 0.8634300 (111)\ttotal: 25.3s\tremaining: 1m 15s\n",
      "176:\tlearn: 0.8633003\ttest: 0.8629730\tbest: 0.8634300 (111)\ttotal: 25.5s\tremaining: 1m 15s\n",
      "177:\tlearn: 0.8633608\ttest: 0.8628873\tbest: 0.8634300 (111)\ttotal: 25.7s\tremaining: 1m 15s\n",
      "178:\tlearn: 0.8634364\ttest: 0.8628588\tbest: 0.8634300 (111)\ttotal: 25.9s\tremaining: 1m 15s\n",
      "179:\tlearn: 0.8634464\ttest: 0.8630016\tbest: 0.8634300 (111)\ttotal: 26.1s\tremaining: 1m 15s\n",
      "180:\tlearn: 0.8634616\ttest: 0.8630301\tbest: 0.8634300 (111)\ttotal: 26.3s\tremaining: 1m 15s\n",
      "181:\tlearn: 0.8634464\ttest: 0.8629445\tbest: 0.8634300 (111)\ttotal: 26.5s\tremaining: 1m 15s\n",
      "182:\tlearn: 0.8634464\ttest: 0.8629445\tbest: 0.8634300 (111)\ttotal: 26.7s\tremaining: 1m 15s\n",
      "183:\tlearn: 0.8635120\ttest: 0.8628588\tbest: 0.8634300 (111)\ttotal: 26.9s\tremaining: 1m 15s\n",
      "184:\tlearn: 0.8635220\ttest: 0.8628302\tbest: 0.8634300 (111)\ttotal: 27.1s\tremaining: 1m 15s\n"
     ]
    },
    {
     "name": "stdout",
     "output_type": "stream",
     "text": [
      "185:\tlearn: 0.8635876\ttest: 0.8629159\tbest: 0.8634300 (111)\ttotal: 27.3s\tremaining: 1m 15s\n",
      "186:\tlearn: 0.8635825\ttest: 0.8628588\tbest: 0.8634300 (111)\ttotal: 27.5s\tremaining: 1m 15s\n",
      "187:\tlearn: 0.8636279\ttest: 0.8629730\tbest: 0.8634300 (111)\ttotal: 27.7s\tremaining: 1m 15s\n",
      "188:\tlearn: 0.8636732\ttest: 0.8630016\tbest: 0.8634300 (111)\ttotal: 27.9s\tremaining: 1m 15s\n",
      "189:\tlearn: 0.8636934\ttest: 0.8629159\tbest: 0.8634300 (111)\ttotal: 28.1s\tremaining: 1m 15s\n",
      "190:\tlearn: 0.8637236\ttest: 0.8629445\tbest: 0.8634300 (111)\ttotal: 28.3s\tremaining: 1m 15s\n",
      "191:\tlearn: 0.8637035\ttest: 0.8628588\tbest: 0.8634300 (111)\ttotal: 28.5s\tremaining: 1m 15s\n",
      "192:\tlearn: 0.8637186\ttest: 0.8626017\tbest: 0.8634300 (111)\ttotal: 28.7s\tremaining: 1m 15s\n",
      "193:\tlearn: 0.8637992\ttest: 0.8624875\tbest: 0.8634300 (111)\ttotal: 28.8s\tremaining: 1m 15s\n",
      "194:\tlearn: 0.8638144\ttest: 0.8629159\tbest: 0.8634300 (111)\ttotal: 29s\tremaining: 1m 15s\n",
      "195:\tlearn: 0.8638043\ttest: 0.8628302\tbest: 0.8634300 (111)\ttotal: 29.2s\tremaining: 1m 15s\n",
      "196:\tlearn: 0.8638345\ttest: 0.8628017\tbest: 0.8634300 (111)\ttotal: 29.4s\tremaining: 1m 15s\n",
      "197:\tlearn: 0.8638396\ttest: 0.8627731\tbest: 0.8634300 (111)\ttotal: 29.6s\tremaining: 1m 14s\n",
      "198:\tlearn: 0.8638295\ttest: 0.8627445\tbest: 0.8634300 (111)\ttotal: 29.8s\tremaining: 1m 14s\n",
      "199:\tlearn: 0.8638597\ttest: 0.8627731\tbest: 0.8634300 (111)\ttotal: 29.9s\tremaining: 1m 14s\n",
      "200:\tlearn: 0.8638900\ttest: 0.8627445\tbest: 0.8634300 (111)\ttotal: 30.1s\tremaining: 1m 14s\n",
      "201:\tlearn: 0.8639101\ttest: 0.8626589\tbest: 0.8634300 (111)\ttotal: 30.3s\tremaining: 1m 14s\n",
      "202:\tlearn: 0.8638597\ttest: 0.8627160\tbest: 0.8634300 (111)\ttotal: 30.5s\tremaining: 1m 14s\n",
      "203:\tlearn: 0.8638396\ttest: 0.8626874\tbest: 0.8634300 (111)\ttotal: 30.6s\tremaining: 1m 14s\n",
      "204:\tlearn: 0.8638446\ttest: 0.8626874\tbest: 0.8634300 (111)\ttotal: 30.8s\tremaining: 1m 14s\n",
      "205:\tlearn: 0.8638496\ttest: 0.8627445\tbest: 0.8634300 (111)\ttotal: 31s\tremaining: 1m 14s\n",
      "206:\tlearn: 0.8638950\ttest: 0.8626017\tbest: 0.8634300 (111)\ttotal: 31.1s\tremaining: 1m 14s\n",
      "207:\tlearn: 0.8638648\ttest: 0.8625161\tbest: 0.8634300 (111)\ttotal: 31.3s\tremaining: 1m 13s\n",
      "208:\tlearn: 0.8639000\ttest: 0.8624589\tbest: 0.8634300 (111)\ttotal: 31.4s\tremaining: 1m 13s\n",
      "209:\tlearn: 0.8639101\ttest: 0.8624018\tbest: 0.8634300 (111)\ttotal: 31.6s\tremaining: 1m 13s\n",
      "210:\tlearn: 0.8639101\ttest: 0.8624018\tbest: 0.8634300 (111)\ttotal: 31.8s\tremaining: 1m 13s\n",
      "211:\tlearn: 0.8639252\ttest: 0.8625161\tbest: 0.8634300 (111)\ttotal: 32s\tremaining: 1m 13s\n",
      "212:\tlearn: 0.8639202\ttest: 0.8624875\tbest: 0.8634300 (111)\ttotal: 32.2s\tremaining: 1m 13s\n",
      "213:\tlearn: 0.8639152\ttest: 0.8625161\tbest: 0.8634300 (111)\ttotal: 32.4s\tremaining: 1m 13s\n",
      "214:\tlearn: 0.8639202\ttest: 0.8625446\tbest: 0.8634300 (111)\ttotal: 32.5s\tremaining: 1m 13s\n",
      "215:\tlearn: 0.8638748\ttest: 0.8625161\tbest: 0.8634300 (111)\ttotal: 32.7s\tremaining: 1m 13s\n",
      "216:\tlearn: 0.8639706\ttest: 0.8623447\tbest: 0.8634300 (111)\ttotal: 32.8s\tremaining: 1m 13s\n",
      "217:\tlearn: 0.8639555\ttest: 0.8623447\tbest: 0.8634300 (111)\ttotal: 33s\tremaining: 1m 12s\n",
      "218:\tlearn: 0.8639555\ttest: 0.8623447\tbest: 0.8634300 (111)\ttotal: 33.1s\tremaining: 1m 12s\n",
      "219:\tlearn: 0.8639958\ttest: 0.8622876\tbest: 0.8634300 (111)\ttotal: 33.3s\tremaining: 1m 12s\n",
      "220:\tlearn: 0.8639857\ttest: 0.8624589\tbest: 0.8634300 (111)\ttotal: 33.5s\tremaining: 1m 12s\n",
      "221:\tlearn: 0.8640260\ttest: 0.8624304\tbest: 0.8634300 (111)\ttotal: 33.6s\tremaining: 1m 12s\n",
      "222:\tlearn: 0.8640764\ttest: 0.8624304\tbest: 0.8634300 (111)\ttotal: 33.8s\tremaining: 1m 12s\n",
      "223:\tlearn: 0.8640059\ttest: 0.8625732\tbest: 0.8634300 (111)\ttotal: 34s\tremaining: 1m 12s\n",
      "224:\tlearn: 0.8639756\ttest: 0.8625732\tbest: 0.8634300 (111)\ttotal: 34.1s\tremaining: 1m 11s\n",
      "225:\tlearn: 0.8639756\ttest: 0.8626303\tbest: 0.8634300 (111)\ttotal: 34.2s\tremaining: 1m 11s\n",
      "226:\tlearn: 0.8640260\ttest: 0.8626589\tbest: 0.8634300 (111)\ttotal: 34.3s\tremaining: 1m 11s\n",
      "227:\tlearn: 0.8639756\ttest: 0.8627445\tbest: 0.8634300 (111)\ttotal: 34.4s\tremaining: 1m 11s\n",
      "228:\tlearn: 0.8640260\ttest: 0.8628588\tbest: 0.8634300 (111)\ttotal: 34.5s\tremaining: 1m 10s\n",
      "229:\tlearn: 0.8640361\ttest: 0.8630301\tbest: 0.8634300 (111)\ttotal: 34.6s\tremaining: 1m 10s\n",
      "230:\tlearn: 0.8640613\ttest: 0.8629730\tbest: 0.8634300 (111)\ttotal: 34.6s\tremaining: 1m 10s\n",
      "231:\tlearn: 0.8640260\ttest: 0.8629730\tbest: 0.8634300 (111)\ttotal: 34.7s\tremaining: 1m 10s\n",
      "232:\tlearn: 0.8640311\ttest: 0.8630016\tbest: 0.8634300 (111)\ttotal: 34.8s\tremaining: 1m 9s\n",
      "233:\tlearn: 0.8640311\ttest: 0.8629445\tbest: 0.8634300 (111)\ttotal: 34.9s\tremaining: 1m 9s\n",
      "234:\tlearn: 0.8640210\ttest: 0.8630587\tbest: 0.8634300 (111)\ttotal: 35s\tremaining: 1m 9s\n",
      "235:\tlearn: 0.8640008\ttest: 0.8629445\tbest: 0.8634300 (111)\ttotal: 35.1s\tremaining: 1m 9s\n",
      "236:\tlearn: 0.8640865\ttest: 0.8628588\tbest: 0.8634300 (111)\ttotal: 35.3s\tremaining: 1m 8s\n",
      "237:\tlearn: 0.8641067\ttest: 0.8628588\tbest: 0.8634300 (111)\ttotal: 35.4s\tremaining: 1m 8s\n",
      "238:\tlearn: 0.8641420\ttest: 0.8629730\tbest: 0.8634300 (111)\ttotal: 35.6s\tremaining: 1m 8s\n",
      "239:\tlearn: 0.8641218\ttest: 0.8629159\tbest: 0.8634300 (111)\ttotal: 35.8s\tremaining: 1m 8s\n",
      "240:\tlearn: 0.8641067\ttest: 0.8628588\tbest: 0.8634300 (111)\ttotal: 36s\tremaining: 1m 8s\n",
      "241:\tlearn: 0.8642075\ttest: 0.8626589\tbest: 0.8634300 (111)\ttotal: 36.2s\tremaining: 1m 8s\n",
      "242:\tlearn: 0.8641873\ttest: 0.8626303\tbest: 0.8634300 (111)\ttotal: 36.4s\tremaining: 1m 8s\n",
      "243:\tlearn: 0.8641974\ttest: 0.8626303\tbest: 0.8634300 (111)\ttotal: 36.6s\tremaining: 1m 8s\n",
      "244:\tlearn: 0.8642579\ttest: 0.8627160\tbest: 0.8634300 (111)\ttotal: 36.7s\tremaining: 1m 8s\n",
      "245:\tlearn: 0.8642377\ttest: 0.8626589\tbest: 0.8634300 (111)\ttotal: 36.9s\tremaining: 1m 8s\n",
      "246:\tlearn: 0.8642276\ttest: 0.8627160\tbest: 0.8634300 (111)\ttotal: 37.1s\tremaining: 1m 8s\n",
      "247:\tlearn: 0.8642226\ttest: 0.8625446\tbest: 0.8634300 (111)\ttotal: 37.3s\tremaining: 1m 7s\n",
      "248:\tlearn: 0.8642327\ttest: 0.8625161\tbest: 0.8634300 (111)\ttotal: 37.5s\tremaining: 1m 7s\n",
      "249:\tlearn: 0.8642428\ttest: 0.8625446\tbest: 0.8634300 (111)\ttotal: 37.7s\tremaining: 1m 7s\n",
      "250:\tlearn: 0.8643184\ttest: 0.8623733\tbest: 0.8634300 (111)\ttotal: 37.8s\tremaining: 1m 7s\n",
      "251:\tlearn: 0.8643587\ttest: 0.8626017\tbest: 0.8634300 (111)\ttotal: 38.1s\tremaining: 1m 7s\n",
      "252:\tlearn: 0.8643486\ttest: 0.8625446\tbest: 0.8634300 (111)\ttotal: 38.2s\tremaining: 1m 7s\n",
      "253:\tlearn: 0.8643688\ttest: 0.8625161\tbest: 0.8634300 (111)\ttotal: 38.5s\tremaining: 1m 7s\n",
      "254:\tlearn: 0.8643788\ttest: 0.8624589\tbest: 0.8634300 (111)\ttotal: 38.7s\tremaining: 1m 7s\n",
      "255:\tlearn: 0.8643083\ttest: 0.8623733\tbest: 0.8634300 (111)\ttotal: 38.9s\tremaining: 1m 7s\n",
      "256:\tlearn: 0.8642932\ttest: 0.8623447\tbest: 0.8634300 (111)\ttotal: 39.2s\tremaining: 1m 7s\n",
      "257:\tlearn: 0.8642982\ttest: 0.8623733\tbest: 0.8634300 (111)\ttotal: 39.3s\tremaining: 1m 7s\n",
      "258:\tlearn: 0.8643385\ttest: 0.8624589\tbest: 0.8634300 (111)\ttotal: 39.5s\tremaining: 1m 7s\n",
      "259:\tlearn: 0.8642982\ttest: 0.8625732\tbest: 0.8634300 (111)\ttotal: 39.7s\tremaining: 1m 7s\n",
      "260:\tlearn: 0.8642932\ttest: 0.8626303\tbest: 0.8634300 (111)\ttotal: 39.9s\tremaining: 1m 7s\n",
      "261:\tlearn: 0.8643184\ttest: 0.8627160\tbest: 0.8634300 (111)\ttotal: 40s\tremaining: 1m 6s\n",
      "262:\tlearn: 0.8643587\ttest: 0.8625161\tbest: 0.8634300 (111)\ttotal: 40.2s\tremaining: 1m 6s\n",
      "263:\tlearn: 0.8642831\ttest: 0.8626017\tbest: 0.8634300 (111)\ttotal: 40.4s\tremaining: 1m 6s\n",
      "264:\tlearn: 0.8643184\ttest: 0.8626874\tbest: 0.8634300 (111)\ttotal: 40.5s\tremaining: 1m 6s\n",
      "265:\tlearn: 0.8643688\ttest: 0.8626874\tbest: 0.8634300 (111)\ttotal: 40.7s\tremaining: 1m 6s\n",
      "266:\tlearn: 0.8642932\ttest: 0.8628302\tbest: 0.8634300 (111)\ttotal: 41s\tremaining: 1m 6s\n",
      "267:\tlearn: 0.8642932\ttest: 0.8628302\tbest: 0.8634300 (111)\ttotal: 41.2s\tremaining: 1m 6s\n",
      "268:\tlearn: 0.8643083\ttest: 0.8626874\tbest: 0.8634300 (111)\ttotal: 41.4s\tremaining: 1m 6s\n",
      "269:\tlearn: 0.8642629\ttest: 0.8627160\tbest: 0.8634300 (111)\ttotal: 41.6s\tremaining: 1m 6s\n",
      "270:\tlearn: 0.8643234\ttest: 0.8628017\tbest: 0.8634300 (111)\ttotal: 41.8s\tremaining: 1m 6s\n",
      "271:\tlearn: 0.8644343\ttest: 0.8628017\tbest: 0.8634300 (111)\ttotal: 42s\tremaining: 1m 6s\n",
      "272:\tlearn: 0.8644948\ttest: 0.8627445\tbest: 0.8634300 (111)\ttotal: 42.2s\tremaining: 1m 6s\n",
      "273:\tlearn: 0.8644746\ttest: 0.8628017\tbest: 0.8634300 (111)\ttotal: 42.4s\tremaining: 1m 5s\n",
      "274:\tlearn: 0.8645200\ttest: 0.8627731\tbest: 0.8634300 (111)\ttotal: 42.6s\tremaining: 1m 5s\n",
      "275:\tlearn: 0.8644998\ttest: 0.8627731\tbest: 0.8634300 (111)\ttotal: 42.8s\tremaining: 1m 5s\n"
     ]
    },
    {
     "name": "stdout",
     "output_type": "stream",
     "text": [
      "276:\tlearn: 0.8645099\ttest: 0.8627731\tbest: 0.8634300 (111)\ttotal: 43s\tremaining: 1m 5s\n",
      "277:\tlearn: 0.8645149\ttest: 0.8629445\tbest: 0.8634300 (111)\ttotal: 43.2s\tremaining: 1m 5s\n",
      "278:\tlearn: 0.8644847\ttest: 0.8629730\tbest: 0.8634300 (111)\ttotal: 43.3s\tremaining: 1m 5s\n",
      "279:\tlearn: 0.8645200\ttest: 0.8630587\tbest: 0.8634300 (111)\ttotal: 43.5s\tremaining: 1m 5s\n",
      "280:\tlearn: 0.8645401\ttest: 0.8630301\tbest: 0.8634300 (111)\ttotal: 43.7s\tremaining: 1m 5s\n",
      "281:\tlearn: 0.8645452\ttest: 0.8629730\tbest: 0.8634300 (111)\ttotal: 43.9s\tremaining: 1m 5s\n",
      "282:\tlearn: 0.8644998\ttest: 0.8629445\tbest: 0.8634300 (111)\ttotal: 44.1s\tremaining: 1m 4s\n",
      "283:\tlearn: 0.8645704\ttest: 0.8627445\tbest: 0.8634300 (111)\ttotal: 44.3s\tremaining: 1m 4s\n",
      "284:\tlearn: 0.8645502\ttest: 0.8628017\tbest: 0.8634300 (111)\ttotal: 44.4s\tremaining: 1m 4s\n",
      "285:\tlearn: 0.8645653\ttest: 0.8627445\tbest: 0.8634300 (111)\ttotal: 44.6s\tremaining: 1m 4s\n",
      "286:\tlearn: 0.8645552\ttest: 0.8626874\tbest: 0.8634300 (111)\ttotal: 44.8s\tremaining: 1m 4s\n",
      "287:\tlearn: 0.8645502\ttest: 0.8627731\tbest: 0.8634300 (111)\ttotal: 45s\tremaining: 1m 4s\n",
      "288:\tlearn: 0.8645552\ttest: 0.8627160\tbest: 0.8634300 (111)\ttotal: 45.1s\tremaining: 1m 4s\n",
      "289:\tlearn: 0.8645502\ttest: 0.8627160\tbest: 0.8634300 (111)\ttotal: 45.2s\tremaining: 1m 3s\n",
      "290:\tlearn: 0.8646157\ttest: 0.8628017\tbest: 0.8634300 (111)\ttotal: 45.4s\tremaining: 1m 3s\n",
      "291:\tlearn: 0.8646812\ttest: 0.8626874\tbest: 0.8634300 (111)\ttotal: 45.6s\tremaining: 1m 3s\n",
      "292:\tlearn: 0.8646308\ttest: 0.8626303\tbest: 0.8634300 (111)\ttotal: 45.7s\tremaining: 1m 3s\n",
      "293:\tlearn: 0.8646913\ttest: 0.8626017\tbest: 0.8634300 (111)\ttotal: 45.9s\tremaining: 1m 3s\n",
      "294:\tlearn: 0.8646560\ttest: 0.8625732\tbest: 0.8634300 (111)\ttotal: 46.1s\tremaining: 1m 3s\n",
      "295:\tlearn: 0.8646359\ttest: 0.8626303\tbest: 0.8634300 (111)\ttotal: 46.2s\tremaining: 1m 3s\n",
      "296:\tlearn: 0.8646460\ttest: 0.8625446\tbest: 0.8634300 (111)\ttotal: 46.4s\tremaining: 1m 2s\n",
      "297:\tlearn: 0.8646359\ttest: 0.8625732\tbest: 0.8634300 (111)\ttotal: 46.5s\tremaining: 1m 2s\n",
      "298:\tlearn: 0.8646359\ttest: 0.8625732\tbest: 0.8634300 (111)\ttotal: 46.7s\tremaining: 1m 2s\n",
      "299:\tlearn: 0.8647064\ttest: 0.8626589\tbest: 0.8634300 (111)\ttotal: 46.8s\tremaining: 1m 2s\n",
      "300:\tlearn: 0.8647568\ttest: 0.8626303\tbest: 0.8634300 (111)\ttotal: 47s\tremaining: 1m 2s\n",
      "301:\tlearn: 0.8647820\ttest: 0.8626874\tbest: 0.8634300 (111)\ttotal: 47.1s\tremaining: 1m 2s\n",
      "302:\tlearn: 0.8647972\ttest: 0.8627160\tbest: 0.8634300 (111)\ttotal: 47.3s\tremaining: 1m 1s\n",
      "303:\tlearn: 0.8647820\ttest: 0.8625446\tbest: 0.8634300 (111)\ttotal: 47.4s\tremaining: 1m 1s\n",
      "304:\tlearn: 0.8647972\ttest: 0.8625446\tbest: 0.8634300 (111)\ttotal: 47.6s\tremaining: 1m 1s\n",
      "305:\tlearn: 0.8647619\ttest: 0.8625732\tbest: 0.8634300 (111)\ttotal: 47.8s\tremaining: 1m 1s\n",
      "306:\tlearn: 0.8647518\ttest: 0.8624875\tbest: 0.8634300 (111)\ttotal: 48s\tremaining: 1m 1s\n",
      "307:\tlearn: 0.8647367\ttest: 0.8624589\tbest: 0.8634300 (111)\ttotal: 48.1s\tremaining: 1m 1s\n",
      "308:\tlearn: 0.8647619\ttest: 0.8624589\tbest: 0.8634300 (111)\ttotal: 48.3s\tremaining: 1m 1s\n",
      "309:\tlearn: 0.8648224\ttest: 0.8624304\tbest: 0.8634300 (111)\ttotal: 48.5s\tremaining: 1m 1s\n",
      "310:\tlearn: 0.8647820\ttest: 0.8622019\tbest: 0.8634300 (111)\ttotal: 48.7s\tremaining: 1m\n",
      "311:\tlearn: 0.8647216\ttest: 0.8621734\tbest: 0.8634300 (111)\ttotal: 48.9s\tremaining: 1m\n",
      "312:\tlearn: 0.8647820\ttest: 0.8622305\tbest: 0.8634300 (111)\ttotal: 49s\tremaining: 1m\n",
      "313:\tlearn: 0.8647820\ttest: 0.8622876\tbest: 0.8634300 (111)\ttotal: 49.2s\tremaining: 1m\n",
      "314:\tlearn: 0.8648123\ttest: 0.8621448\tbest: 0.8634300 (111)\ttotal: 49.3s\tremaining: 1m\n",
      "315:\tlearn: 0.8648576\ttest: 0.8623733\tbest: 0.8634300 (111)\ttotal: 49.5s\tremaining: 1m\n",
      "316:\tlearn: 0.8649584\ttest: 0.8624018\tbest: 0.8634300 (111)\ttotal: 49.7s\tremaining: 1m\n",
      "317:\tlearn: 0.8649685\ttest: 0.8624875\tbest: 0.8634300 (111)\ttotal: 49.8s\tremaining: 59.9s\n",
      "318:\tlearn: 0.8648576\ttest: 0.8624875\tbest: 0.8634300 (111)\ttotal: 50s\tremaining: 59.8s\n",
      "319:\tlearn: 0.8648879\ttest: 0.8624875\tbest: 0.8634300 (111)\ttotal: 50.2s\tremaining: 59.6s\n",
      "320:\tlearn: 0.8649433\ttest: 0.8625446\tbest: 0.8634300 (111)\ttotal: 50.4s\tremaining: 59.5s\n",
      "321:\tlearn: 0.8649484\ttest: 0.8624589\tbest: 0.8634300 (111)\ttotal: 50.6s\tremaining: 59.4s\n",
      "322:\tlearn: 0.8649534\ttest: 0.8626017\tbest: 0.8634300 (111)\ttotal: 50.7s\tremaining: 59.2s\n",
      "323:\tlearn: 0.8648425\ttest: 0.8624589\tbest: 0.8634300 (111)\ttotal: 50.9s\tremaining: 59.1s\n",
      "324:\tlearn: 0.8648627\ttest: 0.8624875\tbest: 0.8634300 (111)\ttotal: 51.1s\tremaining: 58.9s\n",
      "325:\tlearn: 0.8648375\ttest: 0.8624875\tbest: 0.8634300 (111)\ttotal: 51.2s\tremaining: 58.8s\n",
      "326:\tlearn: 0.8648778\ttest: 0.8625161\tbest: 0.8634300 (111)\ttotal: 51.4s\tremaining: 58.7s\n",
      "327:\tlearn: 0.8649332\ttest: 0.8625446\tbest: 0.8634300 (111)\ttotal: 51.6s\tremaining: 58.6s\n",
      "328:\tlearn: 0.8649232\ttest: 0.8624589\tbest: 0.8634300 (111)\ttotal: 51.8s\tremaining: 58.4s\n",
      "329:\tlearn: 0.8649131\ttest: 0.8624304\tbest: 0.8634300 (111)\ttotal: 52s\tremaining: 58.3s\n",
      "330:\tlearn: 0.8650592\ttest: 0.8626017\tbest: 0.8634300 (111)\ttotal: 52.2s\tremaining: 58.2s\n",
      "331:\tlearn: 0.8650441\ttest: 0.8626589\tbest: 0.8634300 (111)\ttotal: 52.3s\tremaining: 58s\n",
      "332:\tlearn: 0.8650693\ttest: 0.8626303\tbest: 0.8634300 (111)\ttotal: 52.5s\tremaining: 57.8s\n",
      "333:\tlearn: 0.8650794\ttest: 0.8626303\tbest: 0.8634300 (111)\ttotal: 52.6s\tremaining: 57.7s\n",
      "334:\tlearn: 0.8650240\ttest: 0.8626017\tbest: 0.8634300 (111)\ttotal: 52.8s\tremaining: 57.5s\n",
      "335:\tlearn: 0.8650240\ttest: 0.8624018\tbest: 0.8634300 (111)\ttotal: 53s\tremaining: 57.4s\n",
      "336:\tlearn: 0.8651298\ttest: 0.8621734\tbest: 0.8634300 (111)\ttotal: 53.2s\tremaining: 57.3s\n",
      "337:\tlearn: 0.8650945\ttest: 0.8622590\tbest: 0.8634300 (111)\ttotal: 53.4s\tremaining: 57.1s\n",
      "338:\tlearn: 0.8651147\ttest: 0.8623447\tbest: 0.8634300 (111)\ttotal: 53.5s\tremaining: 57s\n",
      "339:\tlearn: 0.8650693\ttest: 0.8623733\tbest: 0.8634300 (111)\ttotal: 53.7s\tremaining: 56.9s\n",
      "340:\tlearn: 0.8650996\ttest: 0.8624875\tbest: 0.8634300 (111)\ttotal: 54s\tremaining: 56.8s\n",
      "341:\tlearn: 0.8651348\ttest: 0.8626589\tbest: 0.8634300 (111)\ttotal: 54.1s\tremaining: 56.7s\n",
      "342:\tlearn: 0.8651096\ttest: 0.8626017\tbest: 0.8634300 (111)\ttotal: 54.4s\tremaining: 56.6s\n",
      "343:\tlearn: 0.8652004\ttest: 0.8623733\tbest: 0.8634300 (111)\ttotal: 54.6s\tremaining: 56.5s\n",
      "344:\tlearn: 0.8652104\ttest: 0.8624018\tbest: 0.8634300 (111)\ttotal: 54.8s\tremaining: 56.4s\n",
      "345:\tlearn: 0.8652256\ttest: 0.8624304\tbest: 0.8634300 (111)\ttotal: 55s\tremaining: 56.2s\n",
      "346:\tlearn: 0.8652608\ttest: 0.8624018\tbest: 0.8634300 (111)\ttotal: 55.2s\tremaining: 56.1s\n",
      "347:\tlearn: 0.8652457\ttest: 0.8625161\tbest: 0.8634300 (111)\ttotal: 55.3s\tremaining: 56s\n",
      "348:\tlearn: 0.8652659\ttest: 0.8624875\tbest: 0.8634300 (111)\ttotal: 55.6s\tremaining: 55.9s\n",
      "349:\tlearn: 0.8653616\ttest: 0.8625732\tbest: 0.8634300 (111)\ttotal: 55.8s\tremaining: 55.8s\n",
      "350:\tlearn: 0.8653364\ttest: 0.8626874\tbest: 0.8634300 (111)\ttotal: 56s\tremaining: 55.6s\n",
      "351:\tlearn: 0.8653163\ttest: 0.8625732\tbest: 0.8634300 (111)\ttotal: 56.2s\tremaining: 55.5s\n",
      "352:\tlearn: 0.8652810\ttest: 0.8628017\tbest: 0.8634300 (111)\ttotal: 56.3s\tremaining: 55.4s\n",
      "353:\tlearn: 0.8653465\ttest: 0.8628873\tbest: 0.8634300 (111)\ttotal: 56.5s\tremaining: 55.2s\n",
      "354:\tlearn: 0.8653768\ttest: 0.8628873\tbest: 0.8634300 (111)\ttotal: 56.7s\tremaining: 55.1s\n",
      "355:\tlearn: 0.8653213\ttest: 0.8628017\tbest: 0.8634300 (111)\ttotal: 56.8s\tremaining: 54.9s\n",
      "356:\tlearn: 0.8653667\ttest: 0.8627160\tbest: 0.8634300 (111)\ttotal: 56.9s\tremaining: 54.7s\n",
      "357:\tlearn: 0.8653516\ttest: 0.8628017\tbest: 0.8634300 (111)\ttotal: 57s\tremaining: 54.4s\n",
      "358:\tlearn: 0.8653465\ttest: 0.8628588\tbest: 0.8634300 (111)\ttotal: 57.1s\tremaining: 54.2s\n",
      "359:\tlearn: 0.8654473\ttest: 0.8627160\tbest: 0.8634300 (111)\ttotal: 57.2s\tremaining: 54s\n",
      "360:\tlearn: 0.8654876\ttest: 0.8627731\tbest: 0.8634300 (111)\ttotal: 57.3s\tremaining: 53.8s\n",
      "361:\tlearn: 0.8655179\ttest: 0.8626874\tbest: 0.8634300 (111)\ttotal: 57.4s\tremaining: 53.6s\n",
      "362:\tlearn: 0.8655229\ttest: 0.8626589\tbest: 0.8634300 (111)\ttotal: 57.5s\tremaining: 53.4s\n",
      "363:\tlearn: 0.8654776\ttest: 0.8627160\tbest: 0.8634300 (111)\ttotal: 57.6s\tremaining: 53.2s\n",
      "364:\tlearn: 0.8655128\ttest: 0.8626303\tbest: 0.8634300 (111)\ttotal: 57.7s\tremaining: 52.9s\n",
      "365:\tlearn: 0.8655380\ttest: 0.8626303\tbest: 0.8634300 (111)\ttotal: 57.8s\tremaining: 52.8s\n",
      "366:\tlearn: 0.8654826\ttest: 0.8625732\tbest: 0.8634300 (111)\ttotal: 58s\tremaining: 52.6s\n",
      "367:\tlearn: 0.8654524\ttest: 0.8623447\tbest: 0.8634300 (111)\ttotal: 58.2s\tremaining: 52.5s\n"
     ]
    },
    {
     "name": "stdout",
     "output_type": "stream",
     "text": [
      "368:\tlearn: 0.8654171\ttest: 0.8624018\tbest: 0.8634300 (111)\ttotal: 58.3s\tremaining: 52.3s\n",
      "369:\tlearn: 0.8654221\ttest: 0.8623162\tbest: 0.8634300 (111)\ttotal: 58.5s\tremaining: 52.1s\n",
      "370:\tlearn: 0.8653818\ttest: 0.8624018\tbest: 0.8634300 (111)\ttotal: 58.6s\tremaining: 52s\n",
      "371:\tlearn: 0.8653163\ttest: 0.8624018\tbest: 0.8634300 (111)\ttotal: 58.8s\tremaining: 51.8s\n",
      "372:\tlearn: 0.8653264\ttest: 0.8624018\tbest: 0.8634300 (111)\ttotal: 59s\tremaining: 51.7s\n",
      "373:\tlearn: 0.8653969\ttest: 0.8623733\tbest: 0.8634300 (111)\ttotal: 59.1s\tremaining: 51.5s\n",
      "374:\tlearn: 0.8654120\ttest: 0.8623733\tbest: 0.8634300 (111)\ttotal: 59.3s\tremaining: 51.4s\n",
      "375:\tlearn: 0.8653667\ttest: 0.8624018\tbest: 0.8634300 (111)\ttotal: 59.5s\tremaining: 51.2s\n",
      "376:\tlearn: 0.8653818\ttest: 0.8624589\tbest: 0.8634300 (111)\ttotal: 59.6s\tremaining: 51.1s\n",
      "377:\tlearn: 0.8653415\ttest: 0.8625161\tbest: 0.8634300 (111)\ttotal: 59.8s\tremaining: 50.9s\n",
      "378:\tlearn: 0.8653566\ttest: 0.8624589\tbest: 0.8634300 (111)\ttotal: 59.9s\tremaining: 50.8s\n",
      "379:\tlearn: 0.8653415\ttest: 0.8624589\tbest: 0.8634300 (111)\ttotal: 1m\tremaining: 50.6s\n",
      "380:\tlearn: 0.8652659\ttest: 0.8624589\tbest: 0.8634300 (111)\ttotal: 1m\tremaining: 50.5s\n",
      "381:\tlearn: 0.8651903\ttest: 0.8624018\tbest: 0.8634300 (111)\ttotal: 1m\tremaining: 50.4s\n",
      "382:\tlearn: 0.8652961\ttest: 0.8625732\tbest: 0.8634300 (111)\ttotal: 1m\tremaining: 50.2s\n",
      "383:\tlearn: 0.8652205\ttest: 0.8626874\tbest: 0.8634300 (111)\ttotal: 1m\tremaining: 50.1s\n",
      "384:\tlearn: 0.8652407\ttest: 0.8625446\tbest: 0.8634300 (111)\ttotal: 1m 1s\tremaining: 49.9s\n",
      "385:\tlearn: 0.8652558\ttest: 0.8624875\tbest: 0.8634300 (111)\ttotal: 1m 1s\tremaining: 49.8s\n",
      "386:\tlearn: 0.8653062\ttest: 0.8626874\tbest: 0.8634300 (111)\ttotal: 1m 1s\tremaining: 49.6s\n",
      "387:\tlearn: 0.8653163\ttest: 0.8625732\tbest: 0.8634300 (111)\ttotal: 1m 1s\tremaining: 49.5s\n",
      "388:\tlearn: 0.8652911\ttest: 0.8625161\tbest: 0.8634300 (111)\ttotal: 1m 1s\tremaining: 49.3s\n",
      "389:\tlearn: 0.8653012\ttest: 0.8625446\tbest: 0.8634300 (111)\ttotal: 1m 1s\tremaining: 49.2s\n",
      "390:\tlearn: 0.8652860\ttest: 0.8624875\tbest: 0.8634300 (111)\ttotal: 1m 2s\tremaining: 49s\n",
      "391:\tlearn: 0.8652911\ttest: 0.8625446\tbest: 0.8634300 (111)\ttotal: 1m 2s\tremaining: 48.9s\n",
      "392:\tlearn: 0.8652961\ttest: 0.8624589\tbest: 0.8634300 (111)\ttotal: 1m 2s\tremaining: 48.8s\n",
      "393:\tlearn: 0.8653213\ttest: 0.8624875\tbest: 0.8634300 (111)\ttotal: 1m 2s\tremaining: 48.6s\n",
      "394:\tlearn: 0.8653465\ttest: 0.8623733\tbest: 0.8634300 (111)\ttotal: 1m 2s\tremaining: 48.5s\n",
      "395:\tlearn: 0.8652961\ttest: 0.8624018\tbest: 0.8634300 (111)\ttotal: 1m 2s\tremaining: 48.4s\n",
      "396:\tlearn: 0.8652860\ttest: 0.8624018\tbest: 0.8634300 (111)\ttotal: 1m 3s\tremaining: 48.2s\n",
      "397:\tlearn: 0.8653364\ttest: 0.8623162\tbest: 0.8634300 (111)\ttotal: 1m 3s\tremaining: 48.1s\n",
      "398:\tlearn: 0.8653516\ttest: 0.8622590\tbest: 0.8634300 (111)\ttotal: 1m 3s\tremaining: 47.9s\n",
      "399:\tlearn: 0.8653717\ttest: 0.8624018\tbest: 0.8634300 (111)\ttotal: 1m 3s\tremaining: 47.8s\n",
      "400:\tlearn: 0.8653566\ttest: 0.8622876\tbest: 0.8634300 (111)\ttotal: 1m 3s\tremaining: 47.6s\n",
      "401:\tlearn: 0.8654070\ttest: 0.8624018\tbest: 0.8634300 (111)\ttotal: 1m 4s\tremaining: 47.5s\n",
      "402:\tlearn: 0.8653667\ttest: 0.8625161\tbest: 0.8634300 (111)\ttotal: 1m 4s\tremaining: 47.3s\n",
      "403:\tlearn: 0.8654624\ttest: 0.8625161\tbest: 0.8634300 (111)\ttotal: 1m 4s\tremaining: 47.1s\n",
      "404:\tlearn: 0.8654574\ttest: 0.8625732\tbest: 0.8634300 (111)\ttotal: 1m 4s\tremaining: 46.9s\n",
      "405:\tlearn: 0.8654725\ttest: 0.8626017\tbest: 0.8634300 (111)\ttotal: 1m 4s\tremaining: 46.8s\n",
      "406:\tlearn: 0.8654322\ttest: 0.8626589\tbest: 0.8634300 (111)\ttotal: 1m 4s\tremaining: 46.7s\n",
      "407:\tlearn: 0.8654725\ttest: 0.8626303\tbest: 0.8634300 (111)\ttotal: 1m 4s\tremaining: 46.5s\n",
      "408:\tlearn: 0.8654876\ttest: 0.8626589\tbest: 0.8634300 (111)\ttotal: 1m 5s\tremaining: 46.3s\n",
      "409:\tlearn: 0.8655481\ttest: 0.8626874\tbest: 0.8634300 (111)\ttotal: 1m 5s\tremaining: 46.2s\n",
      "410:\tlearn: 0.8655582\ttest: 0.8627160\tbest: 0.8634300 (111)\ttotal: 1m 5s\tremaining: 46s\n",
      "411:\tlearn: 0.8655481\ttest: 0.8627160\tbest: 0.8634300 (111)\ttotal: 1m 5s\tremaining: 45.9s\n",
      "412:\tlearn: 0.8655632\ttest: 0.8626874\tbest: 0.8634300 (111)\ttotal: 1m 5s\tremaining: 45.7s\n",
      "413:\tlearn: 0.8656288\ttest: 0.8626303\tbest: 0.8634300 (111)\ttotal: 1m 5s\tremaining: 45.6s\n",
      "414:\tlearn: 0.8656540\ttest: 0.8626303\tbest: 0.8634300 (111)\ttotal: 1m 6s\tremaining: 45.4s\n",
      "415:\tlearn: 0.8657548\ttest: 0.8624875\tbest: 0.8634300 (111)\ttotal: 1m 6s\tremaining: 45.3s\n",
      "416:\tlearn: 0.8656892\ttest: 0.8624304\tbest: 0.8634300 (111)\ttotal: 1m 6s\tremaining: 45.1s\n",
      "417:\tlearn: 0.8656640\ttest: 0.8624018\tbest: 0.8634300 (111)\ttotal: 1m 6s\tremaining: 44.9s\n",
      "418:\tlearn: 0.8656792\ttest: 0.8625732\tbest: 0.8634300 (111)\ttotal: 1m 6s\tremaining: 44.7s\n",
      "419:\tlearn: 0.8658001\ttest: 0.8623733\tbest: 0.8634300 (111)\ttotal: 1m 6s\tremaining: 44.6s\n",
      "420:\tlearn: 0.8657800\ttest: 0.8623447\tbest: 0.8634300 (111)\ttotal: 1m 6s\tremaining: 44.4s\n",
      "421:\tlearn: 0.8658808\ttest: 0.8622305\tbest: 0.8634300 (111)\ttotal: 1m 7s\tremaining: 44.3s\n",
      "422:\tlearn: 0.8657497\ttest: 0.8622590\tbest: 0.8634300 (111)\ttotal: 1m 7s\tremaining: 44.1s\n",
      "423:\tlearn: 0.8658152\ttest: 0.8622590\tbest: 0.8634300 (111)\ttotal: 1m 7s\tremaining: 44s\n",
      "424:\tlearn: 0.8658203\ttest: 0.8622590\tbest: 0.8634300 (111)\ttotal: 1m 7s\tremaining: 43.8s\n",
      "425:\tlearn: 0.8659261\ttest: 0.8623162\tbest: 0.8634300 (111)\ttotal: 1m 7s\tremaining: 43.7s\n",
      "426:\tlearn: 0.8659564\ttest: 0.8623733\tbest: 0.8634300 (111)\ttotal: 1m 8s\tremaining: 43.5s\n",
      "427:\tlearn: 0.8659816\ttest: 0.8624018\tbest: 0.8634300 (111)\ttotal: 1m 8s\tremaining: 43.4s\n",
      "428:\tlearn: 0.8659513\ttest: 0.8623733\tbest: 0.8634300 (111)\ttotal: 1m 8s\tremaining: 43.2s\n",
      "429:\tlearn: 0.8659463\ttest: 0.8623733\tbest: 0.8634300 (111)\ttotal: 1m 8s\tremaining: 43.1s\n",
      "430:\tlearn: 0.8659513\ttest: 0.8623733\tbest: 0.8634300 (111)\ttotal: 1m 8s\tremaining: 43s\n",
      "431:\tlearn: 0.8659513\ttest: 0.8623733\tbest: 0.8634300 (111)\ttotal: 1m 9s\tremaining: 42.8s\n",
      "432:\tlearn: 0.8659412\ttest: 0.8623162\tbest: 0.8634300 (111)\ttotal: 1m 9s\tremaining: 42.7s\n",
      "433:\tlearn: 0.8658656\ttest: 0.8622305\tbest: 0.8634300 (111)\ttotal: 1m 9s\tremaining: 42.5s\n",
      "434:\tlearn: 0.8658455\ttest: 0.8623162\tbest: 0.8634300 (111)\ttotal: 1m 9s\tremaining: 42.4s\n",
      "435:\tlearn: 0.8659211\ttest: 0.8624304\tbest: 0.8634300 (111)\ttotal: 1m 9s\tremaining: 42.2s\n",
      "436:\tlearn: 0.8659967\ttest: 0.8623162\tbest: 0.8634300 (111)\ttotal: 1m 9s\tremaining: 42.1s\n",
      "437:\tlearn: 0.8660118\ttest: 0.8622876\tbest: 0.8634300 (111)\ttotal: 1m 10s\tremaining: 41.9s\n",
      "438:\tlearn: 0.8659060\ttest: 0.8621734\tbest: 0.8634300 (111)\ttotal: 1m 10s\tremaining: 41.8s\n",
      "439:\tlearn: 0.8659160\ttest: 0.8621734\tbest: 0.8634300 (111)\ttotal: 1m 10s\tremaining: 41.6s\n",
      "440:\tlearn: 0.8660320\ttest: 0.8625446\tbest: 0.8634300 (111)\ttotal: 1m 10s\tremaining: 41.5s\n",
      "441:\tlearn: 0.8660572\ttest: 0.8626017\tbest: 0.8634300 (111)\ttotal: 1m 10s\tremaining: 41.3s\n",
      "442:\tlearn: 0.8660320\ttest: 0.8624875\tbest: 0.8634300 (111)\ttotal: 1m 10s\tremaining: 41.2s\n",
      "443:\tlearn: 0.8660168\ttest: 0.8624304\tbest: 0.8634300 (111)\ttotal: 1m 11s\tremaining: 41s\n",
      "444:\tlearn: 0.8660068\ttest: 0.8624018\tbest: 0.8634300 (111)\ttotal: 1m 11s\tremaining: 40.9s\n",
      "445:\tlearn: 0.8660017\ttest: 0.8623733\tbest: 0.8634300 (111)\ttotal: 1m 11s\tremaining: 40.7s\n",
      "446:\tlearn: 0.8660219\ttest: 0.8624018\tbest: 0.8634300 (111)\ttotal: 1m 11s\tremaining: 40.6s\n",
      "447:\tlearn: 0.8660320\ttest: 0.8622876\tbest: 0.8634300 (111)\ttotal: 1m 11s\tremaining: 40.4s\n",
      "448:\tlearn: 0.8660572\ttest: 0.8622590\tbest: 0.8634300 (111)\ttotal: 1m 12s\tremaining: 40.3s\n",
      "449:\tlearn: 0.8660370\ttest: 0.8622305\tbest: 0.8634300 (111)\ttotal: 1m 12s\tremaining: 40.1s\n",
      "450:\tlearn: 0.8660723\ttest: 0.8622876\tbest: 0.8634300 (111)\ttotal: 1m 12s\tremaining: 40s\n",
      "451:\tlearn: 0.8660874\ttest: 0.8622590\tbest: 0.8634300 (111)\ttotal: 1m 12s\tremaining: 39.8s\n",
      "452:\tlearn: 0.8660370\ttest: 0.8622876\tbest: 0.8634300 (111)\ttotal: 1m 12s\tremaining: 39.7s\n",
      "453:\tlearn: 0.8660370\ttest: 0.8622876\tbest: 0.8634300 (111)\ttotal: 1m 13s\tremaining: 39.6s\n",
      "454:\tlearn: 0.8660168\ttest: 0.8622590\tbest: 0.8634300 (111)\ttotal: 1m 13s\tremaining: 39.4s\n",
      "455:\tlearn: 0.8660521\ttest: 0.8622019\tbest: 0.8634300 (111)\ttotal: 1m 13s\tremaining: 39.3s\n",
      "456:\tlearn: 0.8660017\ttest: 0.8622305\tbest: 0.8634300 (111)\ttotal: 1m 13s\tremaining: 39.2s\n",
      "457:\tlearn: 0.8660017\ttest: 0.8622019\tbest: 0.8634300 (111)\ttotal: 1m 13s\tremaining: 39s\n",
      "458:\tlearn: 0.8660723\ttest: 0.8622019\tbest: 0.8634300 (111)\ttotal: 1m 14s\tremaining: 38.9s\n",
      "459:\tlearn: 0.8661176\ttest: 0.8622019\tbest: 0.8634300 (111)\ttotal: 1m 14s\tremaining: 38.7s\n"
     ]
    },
    {
     "name": "stdout",
     "output_type": "stream",
     "text": [
      "460:\tlearn: 0.8661428\ttest: 0.8621734\tbest: 0.8634300 (111)\ttotal: 1m 14s\tremaining: 38.6s\n",
      "461:\tlearn: 0.8661932\ttest: 0.8622019\tbest: 0.8634300 (111)\ttotal: 1m 14s\tremaining: 38.4s\n",
      "462:\tlearn: 0.8661227\ttest: 0.8622305\tbest: 0.8634300 (111)\ttotal: 1m 14s\tremaining: 38.3s\n",
      "463:\tlearn: 0.8661630\ttest: 0.8621734\tbest: 0.8634300 (111)\ttotal: 1m 14s\tremaining: 38.1s\n",
      "464:\tlearn: 0.8661580\ttest: 0.8622876\tbest: 0.8634300 (111)\ttotal: 1m 15s\tremaining: 37.9s\n",
      "465:\tlearn: 0.8661025\ttest: 0.8623733\tbest: 0.8634300 (111)\ttotal: 1m 15s\tremaining: 37.8s\n",
      "466:\tlearn: 0.8660773\ttest: 0.8622305\tbest: 0.8634300 (111)\ttotal: 1m 15s\tremaining: 37.6s\n",
      "467:\tlearn: 0.8660773\ttest: 0.8623733\tbest: 0.8634300 (111)\ttotal: 1m 15s\tremaining: 37.5s\n",
      "468:\tlearn: 0.8661025\ttest: 0.8624304\tbest: 0.8634300 (111)\ttotal: 1m 15s\tremaining: 37.3s\n",
      "469:\tlearn: 0.8661076\ttest: 0.8624589\tbest: 0.8634300 (111)\ttotal: 1m 16s\tremaining: 37.2s\n",
      "470:\tlearn: 0.8661680\ttest: 0.8624875\tbest: 0.8634300 (111)\ttotal: 1m 16s\tremaining: 37s\n",
      "471:\tlearn: 0.8661781\ttest: 0.8624589\tbest: 0.8634300 (111)\ttotal: 1m 16s\tremaining: 36.9s\n",
      "472:\tlearn: 0.8662134\ttest: 0.8623447\tbest: 0.8634300 (111)\ttotal: 1m 16s\tremaining: 36.7s\n",
      "473:\tlearn: 0.8662688\ttest: 0.8625161\tbest: 0.8634300 (111)\ttotal: 1m 16s\tremaining: 36.6s\n",
      "474:\tlearn: 0.8662739\ttest: 0.8625161\tbest: 0.8634300 (111)\ttotal: 1m 16s\tremaining: 36.4s\n",
      "475:\tlearn: 0.8662688\ttest: 0.8625446\tbest: 0.8634300 (111)\ttotal: 1m 17s\tremaining: 36.3s\n",
      "476:\tlearn: 0.8662890\ttest: 0.8625732\tbest: 0.8634300 (111)\ttotal: 1m 17s\tremaining: 36.1s\n",
      "477:\tlearn: 0.8662386\ttest: 0.8625446\tbest: 0.8634300 (111)\ttotal: 1m 17s\tremaining: 36s\n",
      "478:\tlearn: 0.8662487\ttest: 0.8625446\tbest: 0.8634300 (111)\ttotal: 1m 17s\tremaining: 35.8s\n",
      "479:\tlearn: 0.8662588\ttest: 0.8625446\tbest: 0.8634300 (111)\ttotal: 1m 17s\tremaining: 35.7s\n",
      "480:\tlearn: 0.8662739\ttest: 0.8625161\tbest: 0.8634300 (111)\ttotal: 1m 18s\tremaining: 35.5s\n",
      "481:\tlearn: 0.8662588\ttest: 0.8624589\tbest: 0.8634300 (111)\ttotal: 1m 18s\tremaining: 35.4s\n",
      "482:\tlearn: 0.8662386\ttest: 0.8624304\tbest: 0.8634300 (111)\ttotal: 1m 18s\tremaining: 35.2s\n",
      "483:\tlearn: 0.8662386\ttest: 0.8624589\tbest: 0.8634300 (111)\ttotal: 1m 18s\tremaining: 35.1s\n",
      "484:\tlearn: 0.8662084\ttest: 0.8624304\tbest: 0.8634300 (111)\ttotal: 1m 18s\tremaining: 34.9s\n",
      "485:\tlearn: 0.8661932\ttest: 0.8625161\tbest: 0.8634300 (111)\ttotal: 1m 18s\tremaining: 34.7s\n",
      "486:\tlearn: 0.8662436\ttest: 0.8623733\tbest: 0.8634300 (111)\ttotal: 1m 19s\tremaining: 34.6s\n",
      "487:\tlearn: 0.8662487\ttest: 0.8624018\tbest: 0.8634300 (111)\ttotal: 1m 19s\tremaining: 34.4s\n",
      "488:\tlearn: 0.8662235\ttest: 0.8625161\tbest: 0.8634300 (111)\ttotal: 1m 19s\tremaining: 34.3s\n",
      "489:\tlearn: 0.8662537\ttest: 0.8625161\tbest: 0.8634300 (111)\ttotal: 1m 19s\tremaining: 34.1s\n",
      "490:\tlearn: 0.8662134\ttest: 0.8625446\tbest: 0.8634300 (111)\ttotal: 1m 19s\tremaining: 34s\n",
      "491:\tlearn: 0.8662991\ttest: 0.8626017\tbest: 0.8634300 (111)\ttotal: 1m 19s\tremaining: 33.8s\n",
      "492:\tlearn: 0.8663545\ttest: 0.8624589\tbest: 0.8634300 (111)\ttotal: 1m 20s\tremaining: 33.6s\n",
      "493:\tlearn: 0.8664049\ttest: 0.8624589\tbest: 0.8634300 (111)\ttotal: 1m 20s\tremaining: 33.5s\n",
      "494:\tlearn: 0.8664251\ttest: 0.8624018\tbest: 0.8634300 (111)\ttotal: 1m 20s\tremaining: 33.3s\n",
      "495:\tlearn: 0.8664352\ttest: 0.8623733\tbest: 0.8634300 (111)\ttotal: 1m 20s\tremaining: 33.2s\n",
      "496:\tlearn: 0.8665158\ttest: 0.8623162\tbest: 0.8634300 (111)\ttotal: 1m 20s\tremaining: 33s\n",
      "497:\tlearn: 0.8665158\ttest: 0.8622590\tbest: 0.8634300 (111)\ttotal: 1m 20s\tremaining: 32.8s\n",
      "498:\tlearn: 0.8664856\ttest: 0.8622876\tbest: 0.8634300 (111)\ttotal: 1m 21s\tremaining: 32.7s\n",
      "499:\tlearn: 0.8665108\ttest: 0.8622876\tbest: 0.8634300 (111)\ttotal: 1m 21s\tremaining: 32.5s\n",
      "500:\tlearn: 0.8664906\ttest: 0.8622590\tbest: 0.8634300 (111)\ttotal: 1m 21s\tremaining: 32.4s\n",
      "501:\tlearn: 0.8664856\ttest: 0.8621162\tbest: 0.8634300 (111)\ttotal: 1m 21s\tremaining: 32.2s\n",
      "502:\tlearn: 0.8664956\ttest: 0.8622876\tbest: 0.8634300 (111)\ttotal: 1m 21s\tremaining: 32.1s\n",
      "503:\tlearn: 0.8664704\ttest: 0.8622305\tbest: 0.8634300 (111)\ttotal: 1m 22s\tremaining: 31.9s\n",
      "504:\tlearn: 0.8665158\ttest: 0.8622305\tbest: 0.8634300 (111)\ttotal: 1m 22s\tremaining: 31.7s\n",
      "505:\tlearn: 0.8665309\ttest: 0.8622019\tbest: 0.8634300 (111)\ttotal: 1m 22s\tremaining: 31.6s\n",
      "506:\tlearn: 0.8665360\ttest: 0.8622019\tbest: 0.8634300 (111)\ttotal: 1m 22s\tremaining: 31.4s\n",
      "507:\tlearn: 0.8665612\ttest: 0.8622876\tbest: 0.8634300 (111)\ttotal: 1m 22s\tremaining: 31.3s\n",
      "508:\tlearn: 0.8665360\ttest: 0.8621448\tbest: 0.8634300 (111)\ttotal: 1m 22s\tremaining: 31.1s\n",
      "509:\tlearn: 0.8665360\ttest: 0.8622590\tbest: 0.8634300 (111)\ttotal: 1m 23s\tremaining: 31s\n",
      "510:\tlearn: 0.8665158\ttest: 0.8622019\tbest: 0.8634300 (111)\ttotal: 1m 23s\tremaining: 30.8s\n",
      "511:\tlearn: 0.8665259\ttest: 0.8622305\tbest: 0.8634300 (111)\ttotal: 1m 23s\tremaining: 30.6s\n",
      "512:\tlearn: 0.8665208\ttest: 0.8621734\tbest: 0.8634300 (111)\ttotal: 1m 23s\tremaining: 30.5s\n",
      "513:\tlearn: 0.8664654\ttest: 0.8622019\tbest: 0.8634300 (111)\ttotal: 1m 23s\tremaining: 30.3s\n",
      "514:\tlearn: 0.8665108\ttest: 0.8622305\tbest: 0.8634300 (111)\ttotal: 1m 23s\tremaining: 30.1s\n",
      "515:\tlearn: 0.8664452\ttest: 0.8623162\tbest: 0.8634300 (111)\ttotal: 1m 24s\tremaining: 30s\n",
      "516:\tlearn: 0.8665108\ttest: 0.8622590\tbest: 0.8634300 (111)\ttotal: 1m 24s\tremaining: 29.8s\n",
      "517:\tlearn: 0.8665057\ttest: 0.8622305\tbest: 0.8634300 (111)\ttotal: 1m 24s\tremaining: 29.7s\n",
      "518:\tlearn: 0.8665460\ttest: 0.8622305\tbest: 0.8634300 (111)\ttotal: 1m 24s\tremaining: 29.5s\n",
      "519:\tlearn: 0.8665612\ttest: 0.8622590\tbest: 0.8634300 (111)\ttotal: 1m 24s\tremaining: 29.3s\n",
      "520:\tlearn: 0.8665763\ttest: 0.8623162\tbest: 0.8634300 (111)\ttotal: 1m 24s\tremaining: 29.2s\n",
      "521:\tlearn: 0.8665914\ttest: 0.8624304\tbest: 0.8634300 (111)\ttotal: 1m 25s\tremaining: 29s\n",
      "522:\tlearn: 0.8666065\ttest: 0.8622876\tbest: 0.8634300 (111)\ttotal: 1m 25s\tremaining: 28.9s\n",
      "523:\tlearn: 0.8666116\ttest: 0.8623162\tbest: 0.8634300 (111)\ttotal: 1m 25s\tremaining: 28.7s\n",
      "524:\tlearn: 0.8666216\ttest: 0.8623162\tbest: 0.8634300 (111)\ttotal: 1m 25s\tremaining: 28.5s\n",
      "525:\tlearn: 0.8666670\ttest: 0.8622305\tbest: 0.8634300 (111)\ttotal: 1m 25s\tremaining: 28.4s\n",
      "526:\tlearn: 0.8666670\ttest: 0.8624018\tbest: 0.8634300 (111)\ttotal: 1m 25s\tremaining: 28.2s\n",
      "527:\tlearn: 0.8667073\ttest: 0.8623447\tbest: 0.8634300 (111)\ttotal: 1m 26s\tremaining: 28.1s\n",
      "528:\tlearn: 0.8667124\ttest: 0.8622876\tbest: 0.8634300 (111)\ttotal: 1m 26s\tremaining: 27.9s\n",
      "529:\tlearn: 0.8666872\ttest: 0.8622590\tbest: 0.8634300 (111)\ttotal: 1m 26s\tremaining: 27.7s\n",
      "530:\tlearn: 0.8667174\ttest: 0.8622305\tbest: 0.8634300 (111)\ttotal: 1m 26s\tremaining: 27.6s\n",
      "531:\tlearn: 0.8667325\ttest: 0.8622590\tbest: 0.8634300 (111)\ttotal: 1m 26s\tremaining: 27.4s\n",
      "532:\tlearn: 0.8667325\ttest: 0.8622876\tbest: 0.8634300 (111)\ttotal: 1m 27s\tremaining: 27.3s\n",
      "533:\tlearn: 0.8667124\ttest: 0.8622876\tbest: 0.8634300 (111)\ttotal: 1m 27s\tremaining: 27.1s\n",
      "534:\tlearn: 0.8667325\ttest: 0.8624018\tbest: 0.8634300 (111)\ttotal: 1m 27s\tremaining: 26.9s\n",
      "535:\tlearn: 0.8667174\ttest: 0.8623162\tbest: 0.8634300 (111)\ttotal: 1m 27s\tremaining: 26.8s\n",
      "536:\tlearn: 0.8668132\ttest: 0.8624589\tbest: 0.8634300 (111)\ttotal: 1m 27s\tremaining: 26.6s\n",
      "537:\tlearn: 0.8668384\ttest: 0.8624875\tbest: 0.8634300 (111)\ttotal: 1m 27s\tremaining: 26.5s\n",
      "538:\tlearn: 0.8668434\ttest: 0.8625161\tbest: 0.8634300 (111)\ttotal: 1m 28s\tremaining: 26.3s\n",
      "539:\tlearn: 0.8668787\ttest: 0.8625161\tbest: 0.8634300 (111)\ttotal: 1m 28s\tremaining: 26.1s\n",
      "540:\tlearn: 0.8668484\ttest: 0.8625161\tbest: 0.8634300 (111)\ttotal: 1m 28s\tremaining: 26s\n",
      "541:\tlearn: 0.8668232\ttest: 0.8624589\tbest: 0.8634300 (111)\ttotal: 1m 28s\tremaining: 25.8s\n",
      "542:\tlearn: 0.8668182\ttest: 0.8622305\tbest: 0.8634300 (111)\ttotal: 1m 28s\tremaining: 25.7s\n",
      "543:\tlearn: 0.8667527\ttest: 0.8621448\tbest: 0.8634300 (111)\ttotal: 1m 29s\tremaining: 25.5s\n",
      "544:\tlearn: 0.8668333\ttest: 0.8623447\tbest: 0.8634300 (111)\ttotal: 1m 29s\tremaining: 25.4s\n",
      "545:\tlearn: 0.8668333\ttest: 0.8624018\tbest: 0.8634300 (111)\ttotal: 1m 29s\tremaining: 25.2s\n",
      "546:\tlearn: 0.8668384\ttest: 0.8624018\tbest: 0.8634300 (111)\ttotal: 1m 29s\tremaining: 25.1s\n",
      "547:\tlearn: 0.8668837\ttest: 0.8623162\tbest: 0.8634300 (111)\ttotal: 1m 29s\tremaining: 24.9s\n",
      "548:\tlearn: 0.8668585\ttest: 0.8623733\tbest: 0.8634300 (111)\ttotal: 1m 30s\tremaining: 24.8s\n",
      "549:\tlearn: 0.8668736\ttest: 0.8623162\tbest: 0.8634300 (111)\ttotal: 1m 30s\tremaining: 24.6s\n",
      "550:\tlearn: 0.8668837\ttest: 0.8621448\tbest: 0.8634300 (111)\ttotal: 1m 30s\tremaining: 24.4s\n"
     ]
    },
    {
     "name": "stdout",
     "output_type": "stream",
     "text": [
      "551:\tlearn: 0.8669089\ttest: 0.8621448\tbest: 0.8634300 (111)\ttotal: 1m 30s\tremaining: 24.3s\n",
      "552:\tlearn: 0.8668988\ttest: 0.8621448\tbest: 0.8634300 (111)\ttotal: 1m 30s\tremaining: 24.1s\n",
      "553:\tlearn: 0.8669240\ttest: 0.8621448\tbest: 0.8634300 (111)\ttotal: 1m 30s\tremaining: 24s\n",
      "554:\tlearn: 0.8669996\ttest: 0.8624875\tbest: 0.8634300 (111)\ttotal: 1m 31s\tremaining: 23.8s\n",
      "555:\tlearn: 0.8669845\ttest: 0.8624875\tbest: 0.8634300 (111)\ttotal: 1m 31s\tremaining: 23.6s\n",
      "556:\tlearn: 0.8669694\ttest: 0.8625732\tbest: 0.8634300 (111)\ttotal: 1m 31s\tremaining: 23.5s\n",
      "557:\tlearn: 0.8669744\ttest: 0.8625446\tbest: 0.8634300 (111)\ttotal: 1m 31s\tremaining: 23.3s\n",
      "558:\tlearn: 0.8669946\ttest: 0.8624875\tbest: 0.8634300 (111)\ttotal: 1m 31s\tremaining: 23.2s\n",
      "559:\tlearn: 0.8669896\ttest: 0.8624875\tbest: 0.8634300 (111)\ttotal: 1m 32s\tremaining: 23s\n",
      "560:\tlearn: 0.8669845\ttest: 0.8624589\tbest: 0.8634300 (111)\ttotal: 1m 32s\tremaining: 22.9s\n",
      "561:\tlearn: 0.8669744\ttest: 0.8624589\tbest: 0.8634300 (111)\ttotal: 1m 32s\tremaining: 22.7s\n",
      "562:\tlearn: 0.8669644\ttest: 0.8624304\tbest: 0.8634300 (111)\ttotal: 1m 32s\tremaining: 22.5s\n",
      "563:\tlearn: 0.8669644\ttest: 0.8623733\tbest: 0.8634300 (111)\ttotal: 1m 32s\tremaining: 22.4s\n",
      "564:\tlearn: 0.8669845\ttest: 0.8623733\tbest: 0.8634300 (111)\ttotal: 1m 32s\tremaining: 22.2s\n",
      "565:\tlearn: 0.8670248\ttest: 0.8624018\tbest: 0.8634300 (111)\ttotal: 1m 33s\tremaining: 22s\n",
      "566:\tlearn: 0.8670349\ttest: 0.8622876\tbest: 0.8634300 (111)\ttotal: 1m 33s\tremaining: 21.9s\n",
      "567:\tlearn: 0.8670148\ttest: 0.8621734\tbest: 0.8634300 (111)\ttotal: 1m 33s\tremaining: 21.7s\n",
      "568:\tlearn: 0.8670601\ttest: 0.8623447\tbest: 0.8634300 (111)\ttotal: 1m 33s\tremaining: 21.5s\n",
      "569:\tlearn: 0.8671357\ttest: 0.8623447\tbest: 0.8634300 (111)\ttotal: 1m 33s\tremaining: 21.4s\n",
      "570:\tlearn: 0.8671660\ttest: 0.8622590\tbest: 0.8634300 (111)\ttotal: 1m 33s\tremaining: 21.2s\n",
      "571:\tlearn: 0.8671760\ttest: 0.8622876\tbest: 0.8634300 (111)\ttotal: 1m 34s\tremaining: 21s\n",
      "572:\tlearn: 0.8671912\ttest: 0.8624304\tbest: 0.8634300 (111)\ttotal: 1m 34s\tremaining: 20.9s\n",
      "573:\tlearn: 0.8672264\ttest: 0.8624018\tbest: 0.8634300 (111)\ttotal: 1m 34s\tremaining: 20.7s\n",
      "574:\tlearn: 0.8672113\ttest: 0.8623733\tbest: 0.8634300 (111)\ttotal: 1m 34s\tremaining: 20.5s\n",
      "575:\tlearn: 0.8672012\ttest: 0.8624018\tbest: 0.8634300 (111)\ttotal: 1m 34s\tremaining: 20.4s\n",
      "576:\tlearn: 0.8671710\ttest: 0.8622305\tbest: 0.8634300 (111)\ttotal: 1m 34s\tremaining: 20.2s\n",
      "577:\tlearn: 0.8671912\ttest: 0.8623162\tbest: 0.8634300 (111)\ttotal: 1m 34s\tremaining: 20.1s\n",
      "578:\tlearn: 0.8671256\ttest: 0.8623447\tbest: 0.8634300 (111)\ttotal: 1m 35s\tremaining: 19.9s\n",
      "579:\tlearn: 0.8672012\ttest: 0.8623733\tbest: 0.8634300 (111)\ttotal: 1m 35s\tremaining: 19.7s\n",
      "580:\tlearn: 0.8671609\ttest: 0.8624875\tbest: 0.8634300 (111)\ttotal: 1m 35s\tremaining: 19.6s\n",
      "581:\tlearn: 0.8671760\ttest: 0.8624304\tbest: 0.8634300 (111)\ttotal: 1m 35s\tremaining: 19.4s\n",
      "582:\tlearn: 0.8672063\ttest: 0.8625161\tbest: 0.8634300 (111)\ttotal: 1m 35s\tremaining: 19.2s\n",
      "583:\tlearn: 0.8671861\ttest: 0.8625446\tbest: 0.8634300 (111)\ttotal: 1m 35s\tremaining: 19.1s\n",
      "584:\tlearn: 0.8672668\ttest: 0.8624875\tbest: 0.8634300 (111)\ttotal: 1m 36s\tremaining: 18.9s\n",
      "585:\tlearn: 0.8672617\ttest: 0.8623447\tbest: 0.8634300 (111)\ttotal: 1m 36s\tremaining: 18.7s\n",
      "586:\tlearn: 0.8672768\ttest: 0.8624875\tbest: 0.8634300 (111)\ttotal: 1m 36s\tremaining: 18.6s\n",
      "587:\tlearn: 0.8672668\ttest: 0.8624589\tbest: 0.8634300 (111)\ttotal: 1m 36s\tremaining: 18.4s\n",
      "588:\tlearn: 0.8672668\ttest: 0.8623447\tbest: 0.8634300 (111)\ttotal: 1m 36s\tremaining: 18.3s\n",
      "589:\tlearn: 0.8672617\ttest: 0.8623162\tbest: 0.8634300 (111)\ttotal: 1m 37s\tremaining: 18.1s\n",
      "590:\tlearn: 0.8672264\ttest: 0.8623162\tbest: 0.8634300 (111)\ttotal: 1m 37s\tremaining: 17.9s\n",
      "591:\tlearn: 0.8672315\ttest: 0.8623162\tbest: 0.8634300 (111)\ttotal: 1m 37s\tremaining: 17.8s\n",
      "592:\tlearn: 0.8672516\ttest: 0.8623162\tbest: 0.8634300 (111)\ttotal: 1m 37s\tremaining: 17.6s\n",
      "593:\tlearn: 0.8672869\ttest: 0.8622590\tbest: 0.8634300 (111)\ttotal: 1m 37s\tremaining: 17.5s\n",
      "594:\tlearn: 0.8673071\ttest: 0.8622590\tbest: 0.8634300 (111)\ttotal: 1m 37s\tremaining: 17.3s\n",
      "595:\tlearn: 0.8672869\ttest: 0.8623447\tbest: 0.8634300 (111)\ttotal: 1m 38s\tremaining: 17.1s\n",
      "596:\tlearn: 0.8673524\ttest: 0.8622590\tbest: 0.8634300 (111)\ttotal: 1m 38s\tremaining: 17s\n",
      "597:\tlearn: 0.8673726\ttest: 0.8622876\tbest: 0.8634300 (111)\ttotal: 1m 38s\tremaining: 16.8s\n",
      "598:\tlearn: 0.8673474\ttest: 0.8623162\tbest: 0.8634300 (111)\ttotal: 1m 38s\tremaining: 16.6s\n",
      "599:\tlearn: 0.8673827\ttest: 0.8622590\tbest: 0.8634300 (111)\ttotal: 1m 38s\tremaining: 16.5s\n",
      "600:\tlearn: 0.8673827\ttest: 0.8622876\tbest: 0.8634300 (111)\ttotal: 1m 39s\tremaining: 16.3s\n",
      "601:\tlearn: 0.8673827\ttest: 0.8622019\tbest: 0.8634300 (111)\ttotal: 1m 39s\tremaining: 16.1s\n",
      "602:\tlearn: 0.8673625\ttest: 0.8622305\tbest: 0.8634300 (111)\ttotal: 1m 39s\tremaining: 16s\n",
      "603:\tlearn: 0.8673575\ttest: 0.8621448\tbest: 0.8634300 (111)\ttotal: 1m 39s\tremaining: 15.8s\n",
      "604:\tlearn: 0.8673323\ttest: 0.8622019\tbest: 0.8634300 (111)\ttotal: 1m 39s\tremaining: 15.6s\n",
      "605:\tlearn: 0.8673373\ttest: 0.8622305\tbest: 0.8634300 (111)\ttotal: 1m 39s\tremaining: 15.5s\n",
      "606:\tlearn: 0.8673424\ttest: 0.8622019\tbest: 0.8634300 (111)\ttotal: 1m 39s\tremaining: 15.3s\n",
      "607:\tlearn: 0.8672617\ttest: 0.8621734\tbest: 0.8634300 (111)\ttotal: 1m 40s\tremaining: 15.2s\n",
      "608:\tlearn: 0.8672416\ttest: 0.8621734\tbest: 0.8634300 (111)\ttotal: 1m 40s\tremaining: 15s\n",
      "609:\tlearn: 0.8672668\ttest: 0.8622019\tbest: 0.8634300 (111)\ttotal: 1m 40s\tremaining: 14.8s\n",
      "610:\tlearn: 0.8673020\ttest: 0.8623162\tbest: 0.8634300 (111)\ttotal: 1m 40s\tremaining: 14.7s\n",
      "611:\tlearn: 0.8673776\ttest: 0.8621734\tbest: 0.8634300 (111)\ttotal: 1m 40s\tremaining: 14.5s\n",
      "612:\tlearn: 0.8674079\ttest: 0.8621448\tbest: 0.8634300 (111)\ttotal: 1m 40s\tremaining: 14.3s\n",
      "613:\tlearn: 0.8674331\ttest: 0.8622305\tbest: 0.8634300 (111)\ttotal: 1m 41s\tremaining: 14.2s\n",
      "614:\tlearn: 0.8674532\ttest: 0.8622305\tbest: 0.8634300 (111)\ttotal: 1m 41s\tremaining: 14s\n",
      "615:\tlearn: 0.8674331\ttest: 0.8621448\tbest: 0.8634300 (111)\ttotal: 1m 41s\tremaining: 13.8s\n",
      "616:\tlearn: 0.8674129\ttest: 0.8621162\tbest: 0.8634300 (111)\ttotal: 1m 41s\tremaining: 13.7s\n",
      "617:\tlearn: 0.8674684\ttest: 0.8620020\tbest: 0.8634300 (111)\ttotal: 1m 41s\tremaining: 13.5s\n",
      "618:\tlearn: 0.8674784\ttest: 0.8618592\tbest: 0.8634300 (111)\ttotal: 1m 42s\tremaining: 13.4s\n",
      "619:\tlearn: 0.8675036\ttest: 0.8620020\tbest: 0.8634300 (111)\ttotal: 1m 42s\tremaining: 13.2s\n",
      "620:\tlearn: 0.8674784\ttest: 0.8619163\tbest: 0.8634300 (111)\ttotal: 1m 42s\tremaining: 13s\n",
      "621:\tlearn: 0.8675288\ttest: 0.8620877\tbest: 0.8634300 (111)\ttotal: 1m 42s\tremaining: 12.9s\n",
      "622:\tlearn: 0.8675692\ttest: 0.8618878\tbest: 0.8634300 (111)\ttotal: 1m 42s\tremaining: 12.7s\n",
      "623:\tlearn: 0.8676044\ttest: 0.8618592\tbest: 0.8634300 (111)\ttotal: 1m 43s\tremaining: 12.5s\n",
      "624:\tlearn: 0.8676296\ttest: 0.8618306\tbest: 0.8634300 (111)\ttotal: 1m 43s\tremaining: 12.4s\n",
      "625:\tlearn: 0.8676397\ttest: 0.8618021\tbest: 0.8634300 (111)\ttotal: 1m 43s\tremaining: 12.2s\n",
      "626:\tlearn: 0.8676498\ttest: 0.8618306\tbest: 0.8634300 (111)\ttotal: 1m 43s\tremaining: 12.1s\n",
      "627:\tlearn: 0.8676901\ttest: 0.8619734\tbest: 0.8634300 (111)\ttotal: 1m 43s\tremaining: 11.9s\n",
      "628:\tlearn: 0.8676700\ttest: 0.8619734\tbest: 0.8634300 (111)\ttotal: 1m 43s\tremaining: 11.7s\n",
      "629:\tlearn: 0.8675994\ttest: 0.8620306\tbest: 0.8634300 (111)\ttotal: 1m 44s\tremaining: 11.6s\n",
      "630:\tlearn: 0.8676044\ttest: 0.8620306\tbest: 0.8634300 (111)\ttotal: 1m 44s\tremaining: 11.4s\n",
      "631:\tlearn: 0.8676296\ttest: 0.8620591\tbest: 0.8634300 (111)\ttotal: 1m 44s\tremaining: 11.2s\n",
      "632:\tlearn: 0.8675893\ttest: 0.8619449\tbest: 0.8634300 (111)\ttotal: 1m 44s\tremaining: 11.1s\n",
      "633:\tlearn: 0.8676044\ttest: 0.8618878\tbest: 0.8634300 (111)\ttotal: 1m 44s\tremaining: 10.9s\n",
      "634:\tlearn: 0.8675893\ttest: 0.8619163\tbest: 0.8634300 (111)\ttotal: 1m 44s\tremaining: 10.7s\n",
      "635:\tlearn: 0.8675692\ttest: 0.8619734\tbest: 0.8634300 (111)\ttotal: 1m 44s\tremaining: 10.5s\n",
      "636:\tlearn: 0.8675641\ttest: 0.8620877\tbest: 0.8634300 (111)\ttotal: 1m 44s\tremaining: 10.4s\n",
      "637:\tlearn: 0.8676196\ttest: 0.8620306\tbest: 0.8634300 (111)\ttotal: 1m 44s\tremaining: 10.2s\n",
      "638:\tlearn: 0.8675742\ttest: 0.8618878\tbest: 0.8634300 (111)\ttotal: 1m 45s\tremaining: 10s\n",
      "639:\tlearn: 0.8675641\ttest: 0.8618306\tbest: 0.8634300 (111)\ttotal: 1m 45s\tremaining: 9.86s\n",
      "640:\tlearn: 0.8676548\ttest: 0.8618878\tbest: 0.8634300 (111)\ttotal: 1m 45s\tremaining: 9.7s\n",
      "641:\tlearn: 0.8675994\ttest: 0.8619163\tbest: 0.8634300 (111)\ttotal: 1m 45s\tremaining: 9.54s\n"
     ]
    },
    {
     "name": "stdout",
     "output_type": "stream",
     "text": [
      "642:\tlearn: 0.8676145\ttest: 0.8619449\tbest: 0.8634300 (111)\ttotal: 1m 45s\tremaining: 9.37s\n",
      "643:\tlearn: 0.8675944\ttest: 0.8619163\tbest: 0.8634300 (111)\ttotal: 1m 45s\tremaining: 9.21s\n",
      "644:\tlearn: 0.8675792\ttest: 0.8619449\tbest: 0.8634300 (111)\ttotal: 1m 46s\tremaining: 9.05s\n",
      "645:\tlearn: 0.8675036\ttest: 0.8618021\tbest: 0.8634300 (111)\ttotal: 1m 46s\tremaining: 8.88s\n",
      "646:\tlearn: 0.8675389\ttest: 0.8619449\tbest: 0.8634300 (111)\ttotal: 1m 46s\tremaining: 8.72s\n",
      "647:\tlearn: 0.8674885\ttest: 0.8618592\tbest: 0.8634300 (111)\ttotal: 1m 46s\tremaining: 8.55s\n",
      "648:\tlearn: 0.8675440\ttest: 0.8619449\tbest: 0.8634300 (111)\ttotal: 1m 46s\tremaining: 8.39s\n",
      "649:\tlearn: 0.8675641\ttest: 0.8619449\tbest: 0.8634300 (111)\ttotal: 1m 46s\tremaining: 8.22s\n",
      "650:\tlearn: 0.8675490\ttest: 0.8620020\tbest: 0.8634300 (111)\ttotal: 1m 47s\tremaining: 8.06s\n",
      "651:\tlearn: 0.8675591\ttest: 0.8618306\tbest: 0.8634300 (111)\ttotal: 1m 47s\tremaining: 7.9s\n",
      "652:\tlearn: 0.8675389\ttest: 0.8618021\tbest: 0.8634300 (111)\ttotal: 1m 47s\tremaining: 7.74s\n",
      "653:\tlearn: 0.8675238\ttest: 0.8618592\tbest: 0.8634300 (111)\ttotal: 1m 47s\tremaining: 7.57s\n",
      "654:\tlearn: 0.8675087\ttest: 0.8618878\tbest: 0.8634300 (111)\ttotal: 1m 47s\tremaining: 7.41s\n",
      "655:\tlearn: 0.8675137\ttest: 0.8619449\tbest: 0.8634300 (111)\ttotal: 1m 48s\tremaining: 7.25s\n",
      "656:\tlearn: 0.8675994\ttest: 0.8618021\tbest: 0.8634300 (111)\ttotal: 1m 48s\tremaining: 7.08s\n",
      "657:\tlearn: 0.8676095\ttest: 0.8618021\tbest: 0.8634300 (111)\ttotal: 1m 48s\tremaining: 6.92s\n",
      "658:\tlearn: 0.8676548\ttest: 0.8619163\tbest: 0.8634300 (111)\ttotal: 1m 48s\tremaining: 6.75s\n",
      "659:\tlearn: 0.8676599\ttest: 0.8619163\tbest: 0.8634300 (111)\ttotal: 1m 48s\tremaining: 6.59s\n",
      "660:\tlearn: 0.8677052\ttest: 0.8621734\tbest: 0.8634300 (111)\ttotal: 1m 48s\tremaining: 6.42s\n",
      "661:\tlearn: 0.8677204\ttest: 0.8620877\tbest: 0.8634300 (111)\ttotal: 1m 49s\tremaining: 6.26s\n",
      "662:\tlearn: 0.8677506\ttest: 0.8621162\tbest: 0.8634300 (111)\ttotal: 1m 49s\tremaining: 6.1s\n",
      "663:\tlearn: 0.8677254\ttest: 0.8620306\tbest: 0.8634300 (111)\ttotal: 1m 49s\tremaining: 5.93s\n",
      "664:\tlearn: 0.8676952\ttest: 0.8618306\tbest: 0.8634300 (111)\ttotal: 1m 49s\tremaining: 5.77s\n",
      "665:\tlearn: 0.8677002\ttest: 0.8618592\tbest: 0.8634300 (111)\ttotal: 1m 49s\tremaining: 5.6s\n",
      "666:\tlearn: 0.8677304\ttest: 0.8618592\tbest: 0.8634300 (111)\ttotal: 1m 49s\tremaining: 5.44s\n",
      "667:\tlearn: 0.8676700\ttest: 0.8618306\tbest: 0.8634300 (111)\ttotal: 1m 50s\tremaining: 5.27s\n",
      "668:\tlearn: 0.8676397\ttest: 0.8617735\tbest: 0.8634300 (111)\ttotal: 1m 50s\tremaining: 5.11s\n",
      "669:\tlearn: 0.8676296\ttest: 0.8618592\tbest: 0.8634300 (111)\ttotal: 1m 50s\tremaining: 4.94s\n",
      "670:\tlearn: 0.8676347\ttest: 0.8618592\tbest: 0.8634300 (111)\ttotal: 1m 50s\tremaining: 4.78s\n",
      "671:\tlearn: 0.8676196\ttest: 0.8619449\tbest: 0.8634300 (111)\ttotal: 1m 50s\tremaining: 4.61s\n",
      "672:\tlearn: 0.8675994\ttest: 0.8616878\tbest: 0.8634300 (111)\ttotal: 1m 50s\tremaining: 4.45s\n",
      "673:\tlearn: 0.8676196\ttest: 0.8618306\tbest: 0.8634300 (111)\ttotal: 1m 51s\tremaining: 4.28s\n",
      "674:\tlearn: 0.8676750\ttest: 0.8618306\tbest: 0.8634300 (111)\ttotal: 1m 51s\tremaining: 4.12s\n",
      "675:\tlearn: 0.8676397\ttest: 0.8617164\tbest: 0.8634300 (111)\ttotal: 1m 51s\tremaining: 3.95s\n",
      "676:\tlearn: 0.8676296\ttest: 0.8617164\tbest: 0.8634300 (111)\ttotal: 1m 51s\tremaining: 3.79s\n",
      "677:\tlearn: 0.8676901\ttest: 0.8619163\tbest: 0.8634300 (111)\ttotal: 1m 51s\tremaining: 3.63s\n",
      "678:\tlearn: 0.8676750\ttest: 0.8618878\tbest: 0.8634300 (111)\ttotal: 1m 51s\tremaining: 3.46s\n",
      "679:\tlearn: 0.8677708\ttest: 0.8617735\tbest: 0.8634300 (111)\ttotal: 1m 52s\tremaining: 3.3s\n",
      "680:\tlearn: 0.8677909\ttest: 0.8618878\tbest: 0.8634300 (111)\ttotal: 1m 52s\tremaining: 3.13s\n",
      "681:\tlearn: 0.8677859\ttest: 0.8617450\tbest: 0.8634300 (111)\ttotal: 1m 52s\tremaining: 2.97s\n",
      "682:\tlearn: 0.8678413\ttest: 0.8618021\tbest: 0.8634300 (111)\ttotal: 1m 52s\tremaining: 2.8s\n",
      "683:\tlearn: 0.8679068\ttest: 0.8617164\tbest: 0.8634300 (111)\ttotal: 1m 52s\tremaining: 2.64s\n",
      "684:\tlearn: 0.8679169\ttest: 0.8616307\tbest: 0.8634300 (111)\ttotal: 1m 53s\tremaining: 2.48s\n",
      "685:\tlearn: 0.8679068\ttest: 0.8617735\tbest: 0.8634300 (111)\ttotal: 1m 53s\tremaining: 2.31s\n",
      "686:\tlearn: 0.8678564\ttest: 0.8619163\tbest: 0.8634300 (111)\ttotal: 1m 53s\tremaining: 2.15s\n",
      "687:\tlearn: 0.8678867\ttest: 0.8618592\tbest: 0.8634300 (111)\ttotal: 1m 53s\tremaining: 1.98s\n",
      "688:\tlearn: 0.8678665\ttest: 0.8618592\tbest: 0.8634300 (111)\ttotal: 1m 53s\tremaining: 1.81s\n",
      "689:\tlearn: 0.8679018\ttest: 0.8620020\tbest: 0.8634300 (111)\ttotal: 1m 53s\tremaining: 1.65s\n",
      "690:\tlearn: 0.8679220\ttest: 0.8620020\tbest: 0.8634300 (111)\ttotal: 1m 54s\tremaining: 1.49s\n",
      "691:\tlearn: 0.8678917\ttest: 0.8620591\tbest: 0.8634300 (111)\ttotal: 1m 54s\tremaining: 1.32s\n",
      "692:\tlearn: 0.8679068\ttest: 0.8621162\tbest: 0.8634300 (111)\ttotal: 1m 54s\tremaining: 1.16s\n",
      "693:\tlearn: 0.8678363\ttest: 0.8618306\tbest: 0.8634300 (111)\ttotal: 1m 54s\tremaining: 990ms\n",
      "694:\tlearn: 0.8678564\ttest: 0.8618878\tbest: 0.8634300 (111)\ttotal: 1m 54s\tremaining: 825ms\n",
      "695:\tlearn: 0.8678514\ttest: 0.8617735\tbest: 0.8634300 (111)\ttotal: 1m 54s\tremaining: 660ms\n",
      "696:\tlearn: 0.8678615\ttest: 0.8617164\tbest: 0.8634300 (111)\ttotal: 1m 55s\tremaining: 495ms\n",
      "697:\tlearn: 0.8678665\ttest: 0.8617450\tbest: 0.8634300 (111)\ttotal: 1m 55s\tremaining: 330ms\n",
      "698:\tlearn: 0.8679220\ttest: 0.8618878\tbest: 0.8634300 (111)\ttotal: 1m 55s\tremaining: 165ms\n",
      "699:\tlearn: 0.8679320\ttest: 0.8620306\tbest: 0.8634300 (111)\ttotal: 1m 55s\tremaining: 0us\n",
      "\n",
      "bestTest = 0.8634299586\n",
      "bestIteration = 111\n",
      "\n",
      "Shrink model to first 112 iterations.\n"
     ]
    },
    {
     "data": {
      "text/plain": [
       "<catboost.core.CatBoostClassifier at 0x24509592bb0>"
      ]
     },
     "execution_count": 34,
     "metadata": {},
     "output_type": "execute_result"
    }
   ],
   "source": [
    "cat.fit(X1_train,y1_train ,cat_features=cat_features_index,eval_set=(X1_test,y1_test),use_best_model=True)"
   ]
  },
  {
   "cell_type": "code",
   "execution_count": 36,
   "metadata": {},
   "outputs": [],
   "source": [
    "from sklearn.metrics import accuracy_score\n",
    "from sklearn.metrics import confusion_matrix"
   ]
  },
  {
   "cell_type": "code",
   "execution_count": 37,
   "metadata": {},
   "outputs": [
    {
     "name": "stdout",
     "output_type": "stream",
     "text": [
      "the test accuracy is :0.863430\n"
     ]
    }
   ],
   "source": [
    "print('the test accuracy is :{:.6f}'.format(accuracy_score(y1_test,cat.predict(X1_test))))\n",
    "predcat = cat.predict(X1_test)"
   ]
  },
  {
   "cell_type": "code",
   "execution_count": 38,
   "metadata": {},
   "outputs": [
    {
     "name": "stdout",
     "output_type": "stream",
     "text": [
      "Training set score: 0.8627\n",
      "Test set score: 0.8634\n"
     ]
    }
   ],
   "source": [
    "print('Training set score: {:.4f}'.format(cat.score(X1_train, y1_train)))\n",
    "print('Test set score: {:.4f}'.format(cat.score(X1_test, y1_test)))"
   ]
  },
  {
   "cell_type": "code",
   "execution_count": 40,
   "metadata": {},
   "outputs": [
    {
     "name": "stdout",
     "output_type": "stream",
     "text": [
      "--------------------------------------------------------------------------------------------\n",
      "Confusion matrix\n",
      "\n",
      " [[25586  1089]\n",
      " [ 3693  4647]]\n",
      "\n",
      "True Positives(TP)   =  25586\n",
      "\n",
      "True Negatives(TN)   =  4647\n",
      "\n",
      "False Positives(FP) =  1089\n",
      "\n",
      "False Negatives(FN) =  3693\n"
     ]
    }
   ],
   "source": [
    "matrix = confusion_matrix(y1_test, predcat)\n",
    "print(\"--------------------------------------------------------------------------------------------\")\n",
    "print('Confusion matrix\\n\\n', matrix)\n",
    "print('\\nTrue Positives(TP)   = ', matrix[0,0])\n",
    "print('\\nTrue Negatives(TN)   = ', matrix[1,1])\n",
    "print('\\nFalse Positives(FP) = ', matrix[0,1])\n",
    "print('\\nFalse Negatives(FN) = ', matrix[1,0])"
   ]
  },
  {
   "cell_type": "code",
   "execution_count": 41,
   "metadata": {},
   "outputs": [],
   "source": [
    "ypred = cat.predict(test)"
   ]
  }
 ],
 "metadata": {
  "kernelspec": {
   "display_name": "Python 3",
   "language": "python",
   "name": "python3"
  },
  "language_info": {
   "codemirror_mode": {
    "name": "ipython",
    "version": 3
   },
   "file_extension": ".py",
   "mimetype": "text/x-python",
   "name": "python",
   "nbconvert_exporter": "python",
   "pygments_lexer": "ipython3",
   "version": "3.8.3"
  }
 },
 "nbformat": 4,
 "nbformat_minor": 4
}
